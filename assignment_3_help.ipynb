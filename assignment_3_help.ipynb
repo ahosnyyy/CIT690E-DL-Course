{
  "nbformat": 4,
  "nbformat_minor": 0,
  "metadata": {
    "colab": {
      "name": "assignment#3_help.ipynb",
      "provenance": [],
      "collapsed_sections": [],
      "authorship_tag": "ABX9TyNzJ889rkj6PRYrwXPvwDp0",
      "include_colab_link": true
    },
    "kernelspec": {
      "name": "python3",
      "display_name": "Python 3"
    },
    "language_info": {
      "name": "python"
    },
    "accelerator": "GPU"
  },
  "cells": [
    {
      "cell_type": "markdown",
      "metadata": {
        "id": "view-in-github",
        "colab_type": "text"
      },
      "source": [
        "<a href=\"https://colab.research.google.com/github/AhHosny/CIT690E-DL-Course/blob/master/assignment_3_help.ipynb\" target=\"_parent\"><img src=\"https://colab.research.google.com/assets/colab-badge.svg\" alt=\"Open In Colab\"/></a>"
      ]
    },
    {
      "cell_type": "markdown",
      "metadata": {
        "id": "ZQK3NRtAJwmw"
      },
      "source": [
        "## Building Neural Networks with PyTorch"
      ]
    },
    {
      "cell_type": "markdown",
      "metadata": {
        "id": "x9dDnx8GJ6fI"
      },
      "source": [
        "Here is how the complete **architecture** of Convolutional Neural Networks looks like:\n",
        "\n",
        "![cnn](https://miro.medium.com/max/3744/1*SGPGG7oeSvVlV5sOSQ2iZw.png)"
      ]
    },
    {
      "cell_type": "code",
      "metadata": {
        "id": "_DoQO-Y9JARp"
      },
      "source": [
        "import torch\n",
        "from torchvision import transforms\n",
        "import torchvision.datasets as datasets\n",
        "import matplotlib.pyplot as plt\n",
        "import numpy as np"
      ],
      "execution_count": 81,
      "outputs": []
    },
    {
      "cell_type": "code",
      "metadata": {
        "colab": {
          "base_uri": "https://localhost:8080/"
        },
        "id": "Akd1ButpJBH_",
        "outputId": "ab01b5d5-47b2-4b23-eb91-91823345b236"
      },
      "source": [
        "mnist_trainset = datasets.MNIST(root='./data', train=True, download=True, transform=transforms.Compose([transforms.ToTensor()]))\n",
        "mnist_testset = datasets.MNIST(root='./data', train=False, download=True, transform=transforms.Compose([transforms.ToTensor()]))\n",
        "\n",
        "mnist_valset, mnist_testset = torch.utils.data.random_split(mnist_testset, [int(0.9 * len(mnist_testset)), int(0.1 * len(mnist_testset))])\n",
        "\n",
        "train_dataloader = torch.utils.data.DataLoader(mnist_trainset, batch_size=64, shuffle=True)\n",
        "val_dataloader = torch.utils.data.DataLoader(mnist_valset, batch_size=32, shuffle=False)\n",
        "test_dataloader = torch.utils.data.DataLoader(mnist_testset, batch_size=32, shuffle=False)\n",
        "\n",
        "print(\"Training dataset size: \", len(mnist_trainset))\n",
        "print(\"Validation dataset size: \", len(mnist_valset))\n",
        "print(\"Testing dataset size: \", len(mnist_testset))"
      ],
      "execution_count": 82,
      "outputs": [
        {
          "output_type": "stream",
          "name": "stdout",
          "text": [
            "Training dataset size:  60000\n",
            "Validation dataset size:  9000\n",
            "Testing dataset size:  1000\n"
          ]
        }
      ]
    },
    {
      "cell_type": "code",
      "metadata": {
        "colab": {
          "base_uri": "https://localhost:8080/",
          "height": 223
        },
        "id": "4S5Kn5rvJBMn",
        "outputId": "c6cbd5e4-63cf-4178-b831-1432782bd437"
      },
      "source": [
        "# visualize data\n",
        "fig=plt.figure(figsize=(20, 10))\n",
        "for i in range(1, 6):\n",
        "    img = transforms.ToPILImage(mode='L')(mnist_trainset[i][0])\n",
        "    fig.add_subplot(1, 6, i)\n",
        "    plt.title(mnist_trainset[i][1])\n",
        "    plt.imshow(img)\n",
        "plt.show()"
      ],
      "execution_count": 83,
      "outputs": [
        {
          "output_type": "display_data",
          "data": {
            "image/png": "[encoded data removed]",
            "text/plain": [
              "<Figure size 1440x720 with 5 Axes>"
            ]
          },
          "metadata": {
            "needs_background": "light"
          }
        }
      ]
    },
    {
      "cell_type": "code",
      "metadata": {
        "id": "QzohrP0lJEwg"
      },
      "source": [
        "class CNN(torch.nn.Module):\n",
        "    def __init__(self):\n",
        "        super(CNN, self).__init__()\n",
        "        self.conv_1 = torch.nn.Conv2d(in_channels=1, out_channels=32, kernel_size=3, stride=1, padding=1)\n",
        "        self.conv_2 = torch.nn.Conv2d(in_channels=32, out_channels=64, kernel_size=3, stride=1, padding=1)\n",
        "        self.max_pool2d = torch.nn.MaxPool2d(kernel_size=2, stride=2)\n",
        "        self.linear_1 = torch.nn.Linear(7 * 7 * 64, 128)\n",
        "        self.linear_2 = torch.nn.Linear(128, 10)\n",
        "        self.dropout = torch.nn.Dropout(p=0.5)\n",
        "        self.relu = torch.nn.ReLU()\n",
        "\n",
        "    def forward(self, x):\n",
        "        x = self.conv_1(x)\n",
        "        x = self.relu(x)\n",
        "        x = self.max_pool2d(x)\n",
        "        x = self.conv_2(x)\n",
        "        x = self.relu(x)\n",
        "        x = self.max_pool2d(x)\n",
        "        x = x.reshape(x.size(0), -1)\n",
        "        x = self.linear_1(x)\n",
        "        x = self.relu(x)\n",
        "        x = self.dropout(x)\n",
        "        pred = self.linear_2(x)\n",
        "\n",
        "        return pred"
      ],
      "execution_count": 84,
      "outputs": []
    },
    {
      "cell_type": "code",
      "metadata": {
        "id": "hwh70raPJRHr"
      },
      "source": [
        "model = CNN()\n",
        "criterion = torch.nn.CrossEntropyLoss()\n",
        "optimizer = torch.optim.Adam(model.parameters(), lr=0.001)\n",
        "\n",
        "if (torch.cuda.is_available()):\n",
        "    model.cuda()"
      ],
      "execution_count": 85,
      "outputs": []
    },
    {
      "cell_type": "code",
      "metadata": {
        "id": "XW7hLb8rJRcA"
      },
      "source": [
        "no_epochs = 100\n",
        "train_loss = list()\n",
        "val_loss = list()\n",
        "best_val_loss = 1"
      ],
      "execution_count": 86,
      "outputs": []
    },
    {
      "cell_type": "code",
      "metadata": {
        "colab": {
          "base_uri": "https://localhost:8080/",
          "height": 1000
        },
        "id": "Gjn8aL_1I6zz",
        "outputId": "618aa039-5ea3-409d-c552-f53ab1a59a2c"
      },
      "source": [
        "for epoch in range(no_epochs):\n",
        "    total_train_loss = 0\n",
        "    total_val_loss = 0\n",
        "\n",
        "    model.train()\n",
        "    # training\n",
        "    for itr, (image, label) in enumerate(train_dataloader):\n",
        "\n",
        "        if (torch.cuda.is_available()):\n",
        "            image = image.cuda()\n",
        "            label = label.cuda()\n",
        "\n",
        "        optimizer.zero_grad()\n",
        "\n",
        "        pred = model(image)\n",
        "\n",
        "        loss = criterion(pred, label)\n",
        "        total_train_loss += loss.item()\n",
        "\n",
        "        loss.backward()\n",
        "        optimizer.step()\n",
        "\n",
        "    total_train_loss = total_train_loss / (itr + 1)\n",
        "    train_loss.append(total_train_loss)\n",
        "\n",
        "    # validation\n",
        "    model.eval()\n",
        "    total = 0\n",
        "    for itr, (image, label) in enumerate(val_dataloader):\n",
        "\n",
        "        if (torch.cuda.is_available()):\n",
        "            image = image.cuda()\n",
        "            label = label.cuda()\n",
        "\n",
        "        pred = model(image)\n",
        "\n",
        "        loss = criterion(pred, label)\n",
        "        total_val_loss += loss.item()\n",
        "\n",
        "        pred = torch.nn.functional.softmax(pred, dim=1)\n",
        "        for i, p in enumerate(pred):\n",
        "            if label[i] == torch.max(p.data, 0)[1]:\n",
        "                total = total + 1\n",
        "\n",
        "    accuracy = total / len(mnist_valset)\n",
        "\n",
        "    total_val_loss = total_val_loss / (itr + 1)\n",
        "    val_loss.append(total_val_loss)\n",
        "\n",
        "    print('\\nEpoch: {}/{}, Train Loss: {:.8f}, Val Loss: {:.8f}, Val Accuracy: {:.8f}'.format(epoch + 1, no_epochs, total_train_loss, total_val_loss, accuracy))\n",
        "\n",
        "    if total_val_loss < best_val_loss:\n",
        "        best_val_loss = total_val_loss\n",
        "        print(\"Saving the model state dictionary for Epoch: {} with Validation loss: {:.8f}\".format(epoch + 1, total_val_loss))\n",
        "        torch.save(model.state_dict(), \"model.dth\")\n",
        "\n",
        "fig=plt.figure(figsize=(20, 10))\n",
        "plt.plot(np.arange(1, no_epochs+1), train_loss, label=\"Train loss\")\n",
        "plt.plot(np.arange(1, no_epochs+1), val_loss, label=\"Validation loss\")\n",
        "plt.xlabel('Loss')\n",
        "plt.ylabel('Epochs')\n",
        "plt.title(\"Loss Plots\")\n",
        "plt.legend(loc='upper right')\n",
        "plt.show()"
      ],
      "execution_count": 87,
      "outputs": [
        {
          "output_type": "stream",
          "name": "stdout",
          "text": [
            "\n",
            "Epoch: 1/100, Train Loss: 0.27540180, Val Loss: 0.05291881, Val Accuracy: 0.98322222\n",
            "Saving the model state dictionary for Epoch: 1 with Validation loss: 0.05291881\n",
            "\n",
            "Epoch: 2/100, Train Loss: 0.09635396, Val Loss: 0.03764145, Val Accuracy: 0.98822222\n",
            "Saving the model state dictionary for Epoch: 2 with Validation loss: 0.03764145\n",
            "\n",
            "Epoch: 3/100, Train Loss: 0.07386512, Val Loss: 0.03904231, Val Accuracy: 0.98711111\n",
            "\n",
            "Epoch: 4/100, Train Loss: 0.05860967, Val Loss: 0.03024772, Val Accuracy: 0.99088889\n",
            "Saving the model state dictionary for Epoch: 4 with Validation loss: 0.03024772\n",
            "\n",
            "Epoch: 5/100, Train Loss: 0.05322602, Val Loss: 0.02418301, Val Accuracy: 0.99133333\n",
            "Saving the model state dictionary for Epoch: 5 with Validation loss: 0.02418301\n",
            "\n",
            "Epoch: 6/100, Train Loss: 0.04315485, Val Loss: 0.02581530, Val Accuracy: 0.99088889\n",
            "\n",
            "Epoch: 7/100, Train Loss: 0.04017307, Val Loss: 0.02360625, Val Accuracy: 0.99233333\n",
            "Saving the model state dictionary for Epoch: 7 with Validation loss: 0.02360625\n",
            "\n",
            "Epoch: 8/100, Train Loss: 0.03508882, Val Loss: 0.02428337, Val Accuracy: 0.99255556\n",
            "\n",
            "Epoch: 9/100, Train Loss: 0.03120793, Val Loss: 0.02327648, Val Accuracy: 0.99244444\n",
            "Saving the model state dictionary for Epoch: 9 with Validation loss: 0.02327648\n",
            "\n",
            "Epoch: 10/100, Train Loss: 0.02736604, Val Loss: 0.02833110, Val Accuracy: 0.99144444\n",
            "\n",
            "Epoch: 11/100, Train Loss: 0.02482913, Val Loss: 0.02297517, Val Accuracy: 0.99311111\n",
            "Saving the model state dictionary for Epoch: 11 with Validation loss: 0.02297517\n",
            "\n",
            "Epoch: 12/100, Train Loss: 0.02378793, Val Loss: 0.02530549, Val Accuracy: 0.99177778\n",
            "\n",
            "Epoch: 13/100, Train Loss: 0.02052608, Val Loss: 0.02904305, Val Accuracy: 0.99288889\n",
            "\n",
            "Epoch: 14/100, Train Loss: 0.01990484, Val Loss: 0.02150003, Val Accuracy: 0.99377778\n",
            "Saving the model state dictionary for Epoch: 14 with Validation loss: 0.02150003\n",
            "\n",
            "Epoch: 15/100, Train Loss: 0.01752544, Val Loss: 0.02603537, Val Accuracy: 0.99322222\n",
            "\n",
            "Epoch: 16/100, Train Loss: 0.01677974, Val Loss: 0.02246184, Val Accuracy: 0.99355556\n",
            "\n",
            "Epoch: 17/100, Train Loss: 0.01664070, Val Loss: 0.02594317, Val Accuracy: 0.99400000\n",
            "\n",
            "Epoch: 18/100, Train Loss: 0.01446231, Val Loss: 0.03021555, Val Accuracy: 0.99355556\n",
            "\n",
            "Epoch: 19/100, Train Loss: 0.01703300, Val Loss: 0.03157179, Val Accuracy: 0.99266667\n",
            "\n",
            "Epoch: 20/100, Train Loss: 0.01402819, Val Loss: 0.02949501, Val Accuracy: 0.99355556\n",
            "\n",
            "Epoch: 21/100, Train Loss: 0.01318551, Val Loss: 0.02815175, Val Accuracy: 0.99311111\n",
            "\n",
            "Epoch: 22/100, Train Loss: 0.01334571, Val Loss: 0.03070208, Val Accuracy: 0.99255556\n",
            "\n",
            "Epoch: 23/100, Train Loss: 0.01313201, Val Loss: 0.03324695, Val Accuracy: 0.99311111\n",
            "\n",
            "Epoch: 24/100, Train Loss: 0.01219292, Val Loss: 0.03701430, Val Accuracy: 0.99255556\n",
            "\n",
            "Epoch: 25/100, Train Loss: 0.01100124, Val Loss: 0.03859751, Val Accuracy: 0.99333333\n",
            "\n",
            "Epoch: 26/100, Train Loss: 0.01124189, Val Loss: 0.03398070, Val Accuracy: 0.99233333\n",
            "\n",
            "Epoch: 27/100, Train Loss: 0.00978360, Val Loss: 0.03377729, Val Accuracy: 0.99244444\n",
            "\n",
            "Epoch: 28/100, Train Loss: 0.01120211, Val Loss: 0.03337741, Val Accuracy: 0.99333333\n",
            "\n",
            "Epoch: 29/100, Train Loss: 0.01009941, Val Loss: 0.03677059, Val Accuracy: 0.99200000\n",
            "\n",
            "Epoch: 30/100, Train Loss: 0.00959963, Val Loss: 0.03755326, Val Accuracy: 0.99155556\n",
            "\n",
            "Epoch: 31/100, Train Loss: 0.00936084, Val Loss: 0.03720775, Val Accuracy: 0.99222222\n",
            "\n",
            "Epoch: 32/100, Train Loss: 0.00854171, Val Loss: 0.03952551, Val Accuracy: 0.99222222\n",
            "\n",
            "Epoch: 33/100, Train Loss: 0.00917271, Val Loss: 0.03686436, Val Accuracy: 0.99322222\n",
            "\n",
            "Epoch: 34/100, Train Loss: 0.01021421, Val Loss: 0.03966176, Val Accuracy: 0.99244444\n",
            "\n",
            "Epoch: 35/100, Train Loss: 0.00995273, Val Loss: 0.03944773, Val Accuracy: 0.99233333\n",
            "\n",
            "Epoch: 36/100, Train Loss: 0.00957937, Val Loss: 0.04132503, Val Accuracy: 0.99277778\n",
            "\n",
            "Epoch: 37/100, Train Loss: 0.00830833, Val Loss: 0.03550890, Val Accuracy: 0.99311111\n",
            "\n",
            "Epoch: 38/100, Train Loss: 0.00755226, Val Loss: 0.03930548, Val Accuracy: 0.99300000\n",
            "\n",
            "Epoch: 39/100, Train Loss: 0.00844422, Val Loss: 0.03950632, Val Accuracy: 0.99211111\n",
            "\n",
            "Epoch: 40/100, Train Loss: 0.00825330, Val Loss: 0.05066851, Val Accuracy: 0.99088889\n",
            "\n",
            "Epoch: 41/100, Train Loss: 0.00756795, Val Loss: 0.04138637, Val Accuracy: 0.99322222\n",
            "\n",
            "Epoch: 42/100, Train Loss: 0.00912403, Val Loss: 0.04239997, Val Accuracy: 0.99155556\n",
            "\n",
            "Epoch: 43/100, Train Loss: 0.00651241, Val Loss: 0.03941931, Val Accuracy: 0.99233333\n",
            "\n",
            "Epoch: 44/100, Train Loss: 0.00638800, Val Loss: 0.03733832, Val Accuracy: 0.99388889\n",
            "\n",
            "Epoch: 45/100, Train Loss: 0.00812868, Val Loss: 0.04420896, Val Accuracy: 0.99333333\n",
            "\n",
            "Epoch: 46/100, Train Loss: 0.00693214, Val Loss: 0.04140201, Val Accuracy: 0.99333333\n",
            "\n",
            "Epoch: 47/100, Train Loss: 0.00634095, Val Loss: 0.03691082, Val Accuracy: 0.99300000\n",
            "\n",
            "Epoch: 48/100, Train Loss: 0.00671990, Val Loss: 0.04004683, Val Accuracy: 0.99333333\n",
            "\n",
            "Epoch: 49/100, Train Loss: 0.00648656, Val Loss: 0.03948041, Val Accuracy: 0.99300000\n",
            "\n",
            "Epoch: 50/100, Train Loss: 0.00602869, Val Loss: 0.04308204, Val Accuracy: 0.99233333\n",
            "\n",
            "Epoch: 51/100, Train Loss: 0.00779951, Val Loss: 0.04042705, Val Accuracy: 0.99288889\n",
            "\n",
            "Epoch: 52/100, Train Loss: 0.00681886, Val Loss: 0.04358687, Val Accuracy: 0.99277778\n",
            "\n",
            "Epoch: 53/100, Train Loss: 0.00731616, Val Loss: 0.04440944, Val Accuracy: 0.99300000\n",
            "\n",
            "Epoch: 54/100, Train Loss: 0.00542542, Val Loss: 0.04525133, Val Accuracy: 0.99366667\n",
            "\n",
            "Epoch: 55/100, Train Loss: 0.00705101, Val Loss: 0.04405571, Val Accuracy: 0.99288889\n",
            "\n",
            "Epoch: 56/100, Train Loss: 0.00502879, Val Loss: 0.04386982, Val Accuracy: 0.99166667\n",
            "\n",
            "Epoch: 57/100, Train Loss: 0.00560198, Val Loss: 0.04180592, Val Accuracy: 0.99311111\n",
            "\n",
            "Epoch: 58/100, Train Loss: 0.00577572, Val Loss: 0.04712364, Val Accuracy: 0.99311111\n",
            "\n",
            "Epoch: 59/100, Train Loss: 0.00707617, Val Loss: 0.04298323, Val Accuracy: 0.99255556\n",
            "\n",
            "Epoch: 60/100, Train Loss: 0.00608279, Val Loss: 0.05130434, Val Accuracy: 0.99255556\n",
            "\n",
            "Epoch: 61/100, Train Loss: 0.00716482, Val Loss: 0.04927308, Val Accuracy: 0.99244444\n",
            "\n",
            "Epoch: 62/100, Train Loss: 0.00510893, Val Loss: 0.04751526, Val Accuracy: 0.99288889\n",
            "\n",
            "Epoch: 63/100, Train Loss: 0.00622484, Val Loss: 0.04810096, Val Accuracy: 0.99333333\n",
            "\n",
            "Epoch: 64/100, Train Loss: 0.00473228, Val Loss: 0.05177092, Val Accuracy: 0.99288889\n",
            "\n",
            "Epoch: 65/100, Train Loss: 0.00606581, Val Loss: 0.05098195, Val Accuracy: 0.99255556\n",
            "\n",
            "Epoch: 66/100, Train Loss: 0.00720653, Val Loss: 0.04229626, Val Accuracy: 0.99377778\n",
            "\n",
            "Epoch: 67/100, Train Loss: 0.00628506, Val Loss: 0.05014821, Val Accuracy: 0.99222222\n",
            "\n",
            "Epoch: 68/100, Train Loss: 0.00527557, Val Loss: 0.04346484, Val Accuracy: 0.99288889\n",
            "\n",
            "Epoch: 69/100, Train Loss: 0.00583179, Val Loss: 0.04995797, Val Accuracy: 0.99322222\n",
            "\n",
            "Epoch: 70/100, Train Loss: 0.00499549, Val Loss: 0.04626607, Val Accuracy: 0.99188889\n",
            "\n",
            "Epoch: 71/100, Train Loss: 0.00507395, Val Loss: 0.04761806, Val Accuracy: 0.99322222\n",
            "\n",
            "Epoch: 72/100, Train Loss: 0.00617944, Val Loss: 0.05109499, Val Accuracy: 0.99322222\n",
            "\n",
            "Epoch: 73/100, Train Loss: 0.00551605, Val Loss: 0.06188607, Val Accuracy: 0.99155556\n",
            "\n",
            "Epoch: 74/100, Train Loss: 0.00628539, Val Loss: 0.05251453, Val Accuracy: 0.99311111\n",
            "\n",
            "Epoch: 75/100, Train Loss: 0.00342957, Val Loss: 0.05104662, Val Accuracy: 0.99311111\n",
            "\n",
            "Epoch: 76/100, Train Loss: 0.00593669, Val Loss: 0.05260305, Val Accuracy: 0.99266667\n",
            "\n",
            "Epoch: 77/100, Train Loss: 0.00475197, Val Loss: 0.04915818, Val Accuracy: 0.99311111\n",
            "\n",
            "Epoch: 78/100, Train Loss: 0.00455432, Val Loss: 0.06051039, Val Accuracy: 0.99244444\n",
            "\n",
            "Epoch: 79/100, Train Loss: 0.00554692, Val Loss: 0.05734566, Val Accuracy: 0.99222222\n",
            "\n",
            "Epoch: 80/100, Train Loss: 0.00632113, Val Loss: 0.05876456, Val Accuracy: 0.99300000\n",
            "\n",
            "Epoch: 81/100, Train Loss: 0.00526317, Val Loss: 0.05660117, Val Accuracy: 0.99366667\n",
            "\n",
            "Epoch: 82/100, Train Loss: 0.00519443, Val Loss: 0.05209925, Val Accuracy: 0.99255556\n",
            "\n",
            "Epoch: 83/100, Train Loss: 0.00533587, Val Loss: 0.06352241, Val Accuracy: 0.99211111\n",
            "\n",
            "Epoch: 84/100, Train Loss: 0.00572461, Val Loss: 0.05335301, Val Accuracy: 0.99366667\n",
            "\n",
            "Epoch: 85/100, Train Loss: 0.00492530, Val Loss: 0.04760620, Val Accuracy: 0.99377778\n",
            "\n",
            "Epoch: 86/100, Train Loss: 0.00477490, Val Loss: 0.06793683, Val Accuracy: 0.99355556\n",
            "\n",
            "Epoch: 87/100, Train Loss: 0.00587385, Val Loss: 0.04699170, Val Accuracy: 0.99366667\n",
            "\n",
            "Epoch: 88/100, Train Loss: 0.00441166, Val Loss: 0.05852322, Val Accuracy: 0.99322222\n",
            "\n",
            "Epoch: 89/100, Train Loss: 0.00544640, Val Loss: 0.04980589, Val Accuracy: 0.99244444\n",
            "\n",
            "Epoch: 90/100, Train Loss: 0.00458451, Val Loss: 0.05747928, Val Accuracy: 0.99300000\n",
            "\n",
            "Epoch: 91/100, Train Loss: 0.00572233, Val Loss: 0.07311345, Val Accuracy: 0.99133333\n",
            "\n",
            "Epoch: 92/100, Train Loss: 0.00503632, Val Loss: 0.06956539, Val Accuracy: 0.99266667\n",
            "\n",
            "Epoch: 93/100, Train Loss: 0.00504033, Val Loss: 0.06803895, Val Accuracy: 0.99166667\n",
            "\n",
            "Epoch: 94/100, Train Loss: 0.00360497, Val Loss: 0.05620378, Val Accuracy: 0.99300000\n",
            "\n",
            "Epoch: 95/100, Train Loss: 0.00522785, Val Loss: 0.05195494, Val Accuracy: 0.99144444\n",
            "\n",
            "Epoch: 96/100, Train Loss: 0.00506574, Val Loss: 0.05594284, Val Accuracy: 0.99266667\n",
            "\n",
            "Epoch: 97/100, Train Loss: 0.00468490, Val Loss: 0.05642236, Val Accuracy: 0.99266667\n",
            "\n",
            "Epoch: 98/100, Train Loss: 0.00386530, Val Loss: 0.07242136, Val Accuracy: 0.99133333\n",
            "\n",
            "Epoch: 99/100, Train Loss: 0.00478986, Val Loss: 0.06445106, Val Accuracy: 0.99277778\n",
            "\n",
            "Epoch: 100/100, Train Loss: 0.00550318, Val Loss: 0.06352577, Val Accuracy: 0.99277778\n"
          ]
        },
        {
          "output_type": "display_data",
          "data": {
            "image/png": "[encoded data removed]",
            "text/plain": [
              "<Figure size 1440x720 with 1 Axes>"
            ]
          },
          "metadata": {
            "needs_background": "light"
          }
        }
      ]
    },
    {
      "cell_type": "code",
      "metadata": {
        "colab": {
          "base_uri": "https://localhost:8080/"
        },
        "id": "O-77aOZJJfu5",
        "outputId": "a4bc150c-7394-4165-f3ec-8b2ae804f594"
      },
      "source": [
        "# test model\n",
        "model.load_state_dict(torch.load(\"model.dth\"))\n",
        "model.eval()\n",
        "\n",
        "# store correct predictions\n",
        "correct_results = list()\n",
        "# store wrong predictions\n",
        "wrong_results = list()\n",
        "total = 0\n",
        "for itr, (image, label) in enumerate(test_dataloader):\n",
        "\n",
        "    if (torch.cuda.is_available()):\n",
        "        image = image.cuda()\n",
        "        label = label.cuda()\n",
        "\n",
        "    pred = model(image)\n",
        "    pred = torch.nn.functional.softmax(pred, dim=1)\n",
        "\n",
        "    for i, p in enumerate(pred):\n",
        "        if label[i] == torch.max(p.data, 0)[1]:\n",
        "            total = total + 1\n",
        "            correct_results.append((image, torch.max(p.data, 0)[1]))\n",
        "\n",
        "        else:\n",
        "          wrong_results.append((image, torch.max(p.data, 0)[1]))\n",
        "\n",
        "test_accuracy = total / len(mnist_testset)\n",
        "print('Test accuracy {:.8f}'.format(test_accuracy))"
      ],
      "execution_count": 125,
      "outputs": [
        {
          "output_type": "stream",
          "name": "stdout",
          "text": [
            "Test accuracy 0.99400000\n"
          ]
        }
      ]
    },
    {
      "cell_type": "code",
      "metadata": {
        "colab": {
          "base_uri": "https://localhost:8080/",
          "height": 553
        },
        "id": "AmigOA43JjUw",
        "outputId": "97d8c6ad-97c1-4f69-97e5-5e6ae7c6906c"
      },
      "source": [
        "# visualize correct results\n",
        "fig=plt.figure(figsize=(20, 10))\n",
        "for i in range(1, min(11, len(correct_results))):\n",
        "\n",
        "    img = transforms.ToPILImage(mode='L')(results[0][0][i])\n",
        "    fig.add_subplot(2, 5, i)\n",
        "    plt.title(correct_results[i][1].item())\n",
        "    plt.imshow(img)\n",
        "plt.show()"
      ],
      "execution_count": 126,
      "outputs": [
        {
          "output_type": "display_data",
          "data": {
            "image/png": "[encoded data removed]",
            "text/plain": [
              "<Figure size 1440x720 with 10 Axes>"
            ]
          },
          "metadata": {
            "needs_background": "light"
          }
        }
      ]
    },
    {
      "cell_type": "code",
      "metadata": {
        "colab": {
          "base_uri": "https://localhost:8080/",
          "height": 256
        },
        "id": "M4lWExygtTq6",
        "outputId": "ccf3b9d1-a67d-4787-a4ba-7f8792edf19e"
      },
      "source": [
        "# visualize wrong results\n",
        "fig=plt.figure(figsize=(20, 10))\n",
        "for i in range(1, min(11, len(wrong_results))):\n",
        "\n",
        "    img = transforms.ToPILImage(mode='L')(results_r[0][0][i])\n",
        "    fig.add_subplot(2, 5, i)\n",
        "    plt.title(wrong_results[i][1].item())\n",
        "    plt.imshow(img)\n",
        "plt.show()"
      ],
      "execution_count": 127,
      "outputs": [
        {
          "output_type": "display_data",
          "data": {
            "image/png": "[encoded data removed]",
            "text/plain": [
              "<Figure size 1440x720 with 5 Axes>"
            ]
          },
          "metadata": {
            "needs_background": "light"
          }
        }
      ]
    },
    {
      "cell_type": "markdown",
      "metadata": {
        "id": "Q5rjEYl6MY6D"
      },
      "source": [
        "# End!"
      ]
    }
  ]
}