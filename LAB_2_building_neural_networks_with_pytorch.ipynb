{
  "nbformat": 4,
  "nbformat_minor": 0,
  "metadata": {
    "accelerator": "GPU",
    "colab": {
      "name": "LAB_2_building_neural_networks_with_pytorch.ipynb",
      "provenance": [],
      "collapsed_sections": [],
      "authorship_tag": "ABX9TyO4gtx6RfWwdTCyt83qJu7+",
      "include_colab_link": true
    },
    "kernelspec": {
      "display_name": "Python 3",
      "name": "python3"
    },
    "language_info": {
      "name": "python"
    },
    "widgets": {
      "application/vnd.jupyter.widget-state+json": {
        "15f3b08343644ec09cc31af0d8c6c5a2": {
          "model_module": "@jupyter-widgets/controls",
          "model_name": "HBoxModel",
          "model_module_version": "1.5.0",
          "state": {
            "_view_name": "HBoxView",
            "_dom_classes": [],
            "_model_name": "HBoxModel",
            "_view_module": "@jupyter-widgets/controls",
            "_model_module_version": "1.5.0",
            "_view_count": null,
            "_view_module_version": "1.5.0",
            "box_style": "",
            "layout": "IPY_MODEL_f54d90187dd14e10b5aa97a5b658750f",
            "_model_module": "@jupyter-widgets/controls",
            "children": [
              "IPY_MODEL_68d70843cb894e34b42da1a5816a47e0",
              "IPY_MODEL_e9224e423b174e87b24a13598ea197f1",
              "IPY_MODEL_de201cea5fd9470ebb089c28e1c4076a"
            ]
          }
        },
        "f54d90187dd14e10b5aa97a5b658750f": {
          "model_module": "@jupyter-widgets/base",
          "model_name": "LayoutModel",
          "model_module_version": "1.2.0",
          "state": {
            "_view_name": "LayoutView",
            "grid_template_rows": null,
            "right": null,
            "justify_content": null,
            "_view_module": "@jupyter-widgets/base",
            "overflow": null,
            "_model_module_version": "1.2.0",
            "_view_count": null,
            "flex_flow": null,
            "width": null,
            "min_width": null,
            "border": null,
            "align_items": null,
            "bottom": null,
            "_model_module": "@jupyter-widgets/base",
            "top": null,
            "grid_column": null,
            "overflow_y": null,
            "overflow_x": null,
            "grid_auto_flow": null,
            "grid_area": null,
            "grid_template_columns": null,
            "flex": null,
            "_model_name": "LayoutModel",
            "justify_items": null,
            "grid_row": null,
            "max_height": null,
            "align_content": null,
            "visibility": null,
            "align_self": null,
            "height": null,
            "min_height": null,
            "padding": null,
            "grid_auto_rows": null,
            "grid_gap": null,
            "max_width": null,
            "order": null,
            "_view_module_version": "1.2.0",
            "grid_template_areas": null,
            "object_position": null,
            "object_fit": null,
            "grid_auto_columns": null,
            "margin": null,
            "display": null,
            "left": null
          }
        },
        "68d70843cb894e34b42da1a5816a47e0": {
          "model_module": "@jupyter-widgets/controls",
          "model_name": "HTMLModel",
          "model_module_version": "1.5.0",
          "state": {
            "_view_name": "HTMLView",
            "style": "IPY_MODEL_579868b174bd4fe3aa842b6f1c6e7e1a",
            "_dom_classes": [],
            "description": "",
            "_model_name": "HTMLModel",
            "placeholder": "​",
            "_view_module": "@jupyter-widgets/controls",
            "_model_module_version": "1.5.0",
            "value": "",
            "_view_count": null,
            "_view_module_version": "1.5.0",
            "description_tooltip": null,
            "_model_module": "@jupyter-widgets/controls",
            "layout": "IPY_MODEL_6fb528390f57410cb75934ad5f1482a1"
          }
        },
        "e9224e423b174e87b24a13598ea197f1": {
          "model_module": "@jupyter-widgets/controls",
          "model_name": "FloatProgressModel",
          "model_module_version": "1.5.0",
          "state": {
            "_view_name": "ProgressView",
            "style": "IPY_MODEL_dced262739a44ad18ea90b2ca3817dff",
            "_dom_classes": [],
            "description": "",
            "_model_name": "FloatProgressModel",
            "bar_style": "success",
            "max": 9912422,
            "_view_module": "@jupyter-widgets/controls",
            "_model_module_version": "1.5.0",
            "value": 9912422,
            "_view_count": null,
            "_view_module_version": "1.5.0",
            "orientation": "horizontal",
            "min": 0,
            "description_tooltip": null,
            "_model_module": "@jupyter-widgets/controls",
            "layout": "IPY_MODEL_a0dd0f0207284d2097b10a31e5bafe2d"
          }
        },
        "de201cea5fd9470ebb089c28e1c4076a": {
          "model_module": "@jupyter-widgets/controls",
          "model_name": "HTMLModel",
          "model_module_version": "1.5.0",
          "state": {
            "_view_name": "HTMLView",
            "style": "IPY_MODEL_71a3acb6ea214640bcb6273ec707f6d7",
            "_dom_classes": [],
            "description": "",
            "_model_name": "HTMLModel",
            "placeholder": "​",
            "_view_module": "@jupyter-widgets/controls",
            "_model_module_version": "1.5.0",
            "value": " 9913344/? [00:00&lt;00:00, 52997681.65it/s]",
            "_view_count": null,
            "_view_module_version": "1.5.0",
            "description_tooltip": null,
            "_model_module": "@jupyter-widgets/controls",
            "layout": "IPY_MODEL_62331b2298da4ee88e6524ad5418be97"
          }
        },
        "579868b174bd4fe3aa842b6f1c6e7e1a": {
          "model_module": "@jupyter-widgets/controls",
          "model_name": "DescriptionStyleModel",
          "model_module_version": "1.5.0",
          "state": {
            "_view_name": "StyleView",
            "_model_name": "DescriptionStyleModel",
            "description_width": "",
            "_view_module": "@jupyter-widgets/base",
            "_model_module_version": "1.5.0",
            "_view_count": null,
            "_view_module_version": "1.2.0",
            "_model_module": "@jupyter-widgets/controls"
          }
        },
        "6fb528390f57410cb75934ad5f1482a1": {
          "model_module": "@jupyter-widgets/base",
          "model_name": "LayoutModel",
          "model_module_version": "1.2.0",
          "state": {
            "_view_name": "LayoutView",
            "grid_template_rows": null,
            "right": null,
            "justify_content": null,
            "_view_module": "@jupyter-widgets/base",
            "overflow": null,
            "_model_module_version": "1.2.0",
            "_view_count": null,
            "flex_flow": null,
            "width": null,
            "min_width": null,
            "border": null,
            "align_items": null,
            "bottom": null,
            "_model_module": "@jupyter-widgets/base",
            "top": null,
            "grid_column": null,
            "overflow_y": null,
            "overflow_x": null,
            "grid_auto_flow": null,
            "grid_area": null,
            "grid_template_columns": null,
            "flex": null,
            "_model_name": "LayoutModel",
            "justify_items": null,
            "grid_row": null,
            "max_height": null,
            "align_content": null,
            "visibility": null,
            "align_self": null,
            "height": null,
            "min_height": null,
            "padding": null,
            "grid_auto_rows": null,
            "grid_gap": null,
            "max_width": null,
            "order": null,
            "_view_module_version": "1.2.0",
            "grid_template_areas": null,
            "object_position": null,
            "object_fit": null,
            "grid_auto_columns": null,
            "margin": null,
            "display": null,
            "left": null
          }
        },
        "dced262739a44ad18ea90b2ca3817dff": {
          "model_module": "@jupyter-widgets/controls",
          "model_name": "ProgressStyleModel",
          "model_module_version": "1.5.0",
          "state": {
            "_view_name": "StyleView",
            "_model_name": "ProgressStyleModel",
            "description_width": "",
            "_view_module": "@jupyter-widgets/base",
            "_model_module_version": "1.5.0",
            "_view_count": null,
            "_view_module_version": "1.2.0",
            "bar_color": null,
            "_model_module": "@jupyter-widgets/controls"
          }
        },
        "a0dd0f0207284d2097b10a31e5bafe2d": {
          "model_module": "@jupyter-widgets/base",
          "model_name": "LayoutModel",
          "model_module_version": "1.2.0",
          "state": {
            "_view_name": "LayoutView",
            "grid_template_rows": null,
            "right": null,
            "justify_content": null,
            "_view_module": "@jupyter-widgets/base",
            "overflow": null,
            "_model_module_version": "1.2.0",
            "_view_count": null,
            "flex_flow": null,
            "width": null,
            "min_width": null,
            "border": null,
            "align_items": null,
            "bottom": null,
            "_model_module": "@jupyter-widgets/base",
            "top": null,
            "grid_column": null,
            "overflow_y": null,
            "overflow_x": null,
            "grid_auto_flow": null,
            "grid_area": null,
            "grid_template_columns": null,
            "flex": null,
            "_model_name": "LayoutModel",
            "justify_items": null,
            "grid_row": null,
            "max_height": null,
            "align_content": null,
            "visibility": null,
            "align_self": null,
            "height": null,
            "min_height": null,
            "padding": null,
            "grid_auto_rows": null,
            "grid_gap": null,
            "max_width": null,
            "order": null,
            "_view_module_version": "1.2.0",
            "grid_template_areas": null,
            "object_position": null,
            "object_fit": null,
            "grid_auto_columns": null,
            "margin": null,
            "display": null,
            "left": null
          }
        },
        "71a3acb6ea214640bcb6273ec707f6d7": {
          "model_module": "@jupyter-widgets/controls",
          "model_name": "DescriptionStyleModel",
          "model_module_version": "1.5.0",
          "state": {
            "_view_name": "StyleView",
            "_model_name": "DescriptionStyleModel",
            "description_width": "",
            "_view_module": "@jupyter-widgets/base",
            "_model_module_version": "1.5.0",
            "_view_count": null,
            "_view_module_version": "1.2.0",
            "_model_module": "@jupyter-widgets/controls"
          }
        },
        "62331b2298da4ee88e6524ad5418be97": {
          "model_module": "@jupyter-widgets/base",
          "model_name": "LayoutModel",
          "model_module_version": "1.2.0",
          "state": {
            "_view_name": "LayoutView",
            "grid_template_rows": null,
            "right": null,
            "justify_content": null,
            "_view_module": "@jupyter-widgets/base",
            "overflow": null,
            "_model_module_version": "1.2.0",
            "_view_count": null,
            "flex_flow": null,
            "width": null,
            "min_width": null,
            "border": null,
            "align_items": null,
            "bottom": null,
            "_model_module": "@jupyter-widgets/base",
            "top": null,
            "grid_column": null,
            "overflow_y": null,
            "overflow_x": null,
            "grid_auto_flow": null,
            "grid_area": null,
            "grid_template_columns": null,
            "flex": null,
            "_model_name": "LayoutModel",
            "justify_items": null,
            "grid_row": null,
            "max_height": null,
            "align_content": null,
            "visibility": null,
            "align_self": null,
            "height": null,
            "min_height": null,
            "padding": null,
            "grid_auto_rows": null,
            "grid_gap": null,
            "max_width": null,
            "order": null,
            "_view_module_version": "1.2.0",
            "grid_template_areas": null,
            "object_position": null,
            "object_fit": null,
            "grid_auto_columns": null,
            "margin": null,
            "display": null,
            "left": null
          }
        },
        "9cb996cd19f642c4be9d17c6abe661e9": {
          "model_module": "@jupyter-widgets/controls",
          "model_name": "HBoxModel",
          "model_module_version": "1.5.0",
          "state": {
            "_view_name": "HBoxView",
            "_dom_classes": [],
            "_model_name": "HBoxModel",
            "_view_module": "@jupyter-widgets/controls",
            "_model_module_version": "1.5.0",
            "_view_count": null,
            "_view_module_version": "1.5.0",
            "box_style": "",
            "layout": "IPY_MODEL_6b4a4f01469149c48ae42b33ab4f5d6c",
            "_model_module": "@jupyter-widgets/controls",
            "children": [
              "IPY_MODEL_7e17fffd2dc649df930a4a8c234d48e7",
              "IPY_MODEL_c0fb8173fa92465a9e37fdc0fc3f5ab5",
              "IPY_MODEL_5ab078146c97480981a81e30063b496b"
            ]
          }
        },
        "6b4a4f01469149c48ae42b33ab4f5d6c": {
          "model_module": "@jupyter-widgets/base",
          "model_name": "LayoutModel",
          "model_module_version": "1.2.0",
          "state": {
            "_view_name": "LayoutView",
            "grid_template_rows": null,
            "right": null,
            "justify_content": null,
            "_view_module": "@jupyter-widgets/base",
            "overflow": null,
            "_model_module_version": "1.2.0",
            "_view_count": null,
            "flex_flow": null,
            "width": null,
            "min_width": null,
            "border": null,
            "align_items": null,
            "bottom": null,
            "_model_module": "@jupyter-widgets/base",
            "top": null,
            "grid_column": null,
            "overflow_y": null,
            "overflow_x": null,
            "grid_auto_flow": null,
            "grid_area": null,
            "grid_template_columns": null,
            "flex": null,
            "_model_name": "LayoutModel",
            "justify_items": null,
            "grid_row": null,
            "max_height": null,
            "align_content": null,
            "visibility": null,
            "align_self": null,
            "height": null,
            "min_height": null,
            "padding": null,
            "grid_auto_rows": null,
            "grid_gap": null,
            "max_width": null,
            "order": null,
            "_view_module_version": "1.2.0",
            "grid_template_areas": null,
            "object_position": null,
            "object_fit": null,
            "grid_auto_columns": null,
            "margin": null,
            "display": null,
            "left": null
          }
        },
        "7e17fffd2dc649df930a4a8c234d48e7": {
          "model_module": "@jupyter-widgets/controls",
          "model_name": "HTMLModel",
          "model_module_version": "1.5.0",
          "state": {
            "_view_name": "HTMLView",
            "style": "IPY_MODEL_926e08b63b784b7fabe8ca471e400c68",
            "_dom_classes": [],
            "description": "",
            "_model_name": "HTMLModel",
            "placeholder": "​",
            "_view_module": "@jupyter-widgets/controls",
            "_model_module_version": "1.5.0",
            "value": "",
            "_view_count": null,
            "_view_module_version": "1.5.0",
            "description_tooltip": null,
            "_model_module": "@jupyter-widgets/controls",
            "layout": "IPY_MODEL_051ff4b213df4a5ba74a8057efd90b9f"
          }
        },
        "c0fb8173fa92465a9e37fdc0fc3f5ab5": {
          "model_module": "@jupyter-widgets/controls",
          "model_name": "FloatProgressModel",
          "model_module_version": "1.5.0",
          "state": {
            "_view_name": "ProgressView",
            "style": "IPY_MODEL_a35d98d340174885941e200bbb4fc27e",
            "_dom_classes": [],
            "description": "",
            "_model_name": "FloatProgressModel",
            "bar_style": "success",
            "max": 28881,
            "_view_module": "@jupyter-widgets/controls",
            "_model_module_version": "1.5.0",
            "value": 28881,
            "_view_count": null,
            "_view_module_version": "1.5.0",
            "orientation": "horizontal",
            "min": 0,
            "description_tooltip": null,
            "_model_module": "@jupyter-widgets/controls",
            "layout": "IPY_MODEL_a0d8e046023247e19b1775eb5c331dd0"
          }
        },
        "5ab078146c97480981a81e30063b496b": {
          "model_module": "@jupyter-widgets/controls",
          "model_name": "HTMLModel",
          "model_module_version": "1.5.0",
          "state": {
            "_view_name": "HTMLView",
            "style": "IPY_MODEL_df7fd51f1af34630871cc07a90022f18",
            "_dom_classes": [],
            "description": "",
            "_model_name": "HTMLModel",
            "placeholder": "​",
            "_view_module": "@jupyter-widgets/controls",
            "_model_module_version": "1.5.0",
            "value": " 29696/? [00:00&lt;00:00, 618250.84it/s]",
            "_view_count": null,
            "_view_module_version": "1.5.0",
            "description_tooltip": null,
            "_model_module": "@jupyter-widgets/controls",
            "layout": "IPY_MODEL_80973aa274e14bf58b8a926170f6d692"
          }
        },
        "926e08b63b784b7fabe8ca471e400c68": {
          "model_module": "@jupyter-widgets/controls",
          "model_name": "DescriptionStyleModel",
          "model_module_version": "1.5.0",
          "state": {
            "_view_name": "StyleView",
            "_model_name": "DescriptionStyleModel",
            "description_width": "",
            "_view_module": "@jupyter-widgets/base",
            "_model_module_version": "1.5.0",
            "_view_count": null,
            "_view_module_version": "1.2.0",
            "_model_module": "@jupyter-widgets/controls"
          }
        },
        "051ff4b213df4a5ba74a8057efd90b9f": {
          "model_module": "@jupyter-widgets/base",
          "model_name": "LayoutModel",
          "model_module_version": "1.2.0",
          "state": {
            "_view_name": "LayoutView",
            "grid_template_rows": null,
            "right": null,
            "justify_content": null,
            "_view_module": "@jupyter-widgets/base",
            "overflow": null,
            "_model_module_version": "1.2.0",
            "_view_count": null,
            "flex_flow": null,
            "width": null,
            "min_width": null,
            "border": null,
            "align_items": null,
            "bottom": null,
            "_model_module": "@jupyter-widgets/base",
            "top": null,
            "grid_column": null,
            "overflow_y": null,
            "overflow_x": null,
            "grid_auto_flow": null,
            "grid_area": null,
            "grid_template_columns": null,
            "flex": null,
            "_model_name": "LayoutModel",
            "justify_items": null,
            "grid_row": null,
            "max_height": null,
            "align_content": null,
            "visibility": null,
            "align_self": null,
            "height": null,
            "min_height": null,
            "padding": null,
            "grid_auto_rows": null,
            "grid_gap": null,
            "max_width": null,
            "order": null,
            "_view_module_version": "1.2.0",
            "grid_template_areas": null,
            "object_position": null,
            "object_fit": null,
            "grid_auto_columns": null,
            "margin": null,
            "display": null,
            "left": null
          }
        },
        "a35d98d340174885941e200bbb4fc27e": {
          "model_module": "@jupyter-widgets/controls",
          "model_name": "ProgressStyleModel",
          "model_module_version": "1.5.0",
          "state": {
            "_view_name": "StyleView",
            "_model_name": "ProgressStyleModel",
            "description_width": "",
            "_view_module": "@jupyter-widgets/base",
            "_model_module_version": "1.5.0",
            "_view_count": null,
            "_view_module_version": "1.2.0",
            "bar_color": null,
            "_model_module": "@jupyter-widgets/controls"
          }
        },
        "a0d8e046023247e19b1775eb5c331dd0": {
          "model_module": "@jupyter-widgets/base",
          "model_name": "LayoutModel",
          "model_module_version": "1.2.0",
          "state": {
            "_view_name": "LayoutView",
            "grid_template_rows": null,
            "right": null,
            "justify_content": null,
            "_view_module": "@jupyter-widgets/base",
            "overflow": null,
            "_model_module_version": "1.2.0",
            "_view_count": null,
            "flex_flow": null,
            "width": null,
            "min_width": null,
            "border": null,
            "align_items": null,
            "bottom": null,
            "_model_module": "@jupyter-widgets/base",
            "top": null,
            "grid_column": null,
            "overflow_y": null,
            "overflow_x": null,
            "grid_auto_flow": null,
            "grid_area": null,
            "grid_template_columns": null,
            "flex": null,
            "_model_name": "LayoutModel",
            "justify_items": null,
            "grid_row": null,
            "max_height": null,
            "align_content": null,
            "visibility": null,
            "align_self": null,
            "height": null,
            "min_height": null,
            "padding": null,
            "grid_auto_rows": null,
            "grid_gap": null,
            "max_width": null,
            "order": null,
            "_view_module_version": "1.2.0",
            "grid_template_areas": null,
            "object_position": null,
            "object_fit": null,
            "grid_auto_columns": null,
            "margin": null,
            "display": null,
            "left": null
          }
        },
        "df7fd51f1af34630871cc07a90022f18": {
          "model_module": "@jupyter-widgets/controls",
          "model_name": "DescriptionStyleModel",
          "model_module_version": "1.5.0",
          "state": {
            "_view_name": "StyleView",
            "_model_name": "DescriptionStyleModel",
            "description_width": "",
            "_view_module": "@jupyter-widgets/base",
            "_model_module_version": "1.5.0",
            "_view_count": null,
            "_view_module_version": "1.2.0",
            "_model_module": "@jupyter-widgets/controls"
          }
        },
        "80973aa274e14bf58b8a926170f6d692": {
          "model_module": "@jupyter-widgets/base",
          "model_name": "LayoutModel",
          "model_module_version": "1.2.0",
          "state": {
            "_view_name": "LayoutView",
            "grid_template_rows": null,
            "right": null,
            "justify_content": null,
            "_view_module": "@jupyter-widgets/base",
            "overflow": null,
            "_model_module_version": "1.2.0",
            "_view_count": null,
            "flex_flow": null,
            "width": null,
            "min_width": null,
            "border": null,
            "align_items": null,
            "bottom": null,
            "_model_module": "@jupyter-widgets/base",
            "top": null,
            "grid_column": null,
            "overflow_y": null,
            "overflow_x": null,
            "grid_auto_flow": null,
            "grid_area": null,
            "grid_template_columns": null,
            "flex": null,
            "_model_name": "LayoutModel",
            "justify_items": null,
            "grid_row": null,
            "max_height": null,
            "align_content": null,
            "visibility": null,
            "align_self": null,
            "height": null,
            "min_height": null,
            "padding": null,
            "grid_auto_rows": null,
            "grid_gap": null,
            "max_width": null,
            "order": null,
            "_view_module_version": "1.2.0",
            "grid_template_areas": null,
            "object_position": null,
            "object_fit": null,
            "grid_auto_columns": null,
            "margin": null,
            "display": null,
            "left": null
          }
        },
        "9d9485dd32464d5297f5133b48c3b459": {
          "model_module": "@jupyter-widgets/controls",
          "model_name": "HBoxModel",
          "model_module_version": "1.5.0",
          "state": {
            "_view_name": "HBoxView",
            "_dom_classes": [],
            "_model_name": "HBoxModel",
            "_view_module": "@jupyter-widgets/controls",
            "_model_module_version": "1.5.0",
            "_view_count": null,
            "_view_module_version": "1.5.0",
            "box_style": "",
            "layout": "IPY_MODEL_39925c7a60dc420290a727c88a423bab",
            "_model_module": "@jupyter-widgets/controls",
            "children": [
              "IPY_MODEL_79c298f823514dd7962d64b48cbcb9b3",
              "IPY_MODEL_6d08eade935b48ccb7ff83bee15bcbe5",
              "IPY_MODEL_218e021e03dd40a6b6168d1ecbeed5f1"
            ]
          }
        },
        "39925c7a60dc420290a727c88a423bab": {
          "model_module": "@jupyter-widgets/base",
          "model_name": "LayoutModel",
          "model_module_version": "1.2.0",
          "state": {
            "_view_name": "LayoutView",
            "grid_template_rows": null,
            "right": null,
            "justify_content": null,
            "_view_module": "@jupyter-widgets/base",
            "overflow": null,
            "_model_module_version": "1.2.0",
            "_view_count": null,
            "flex_flow": null,
            "width": null,
            "min_width": null,
            "border": null,
            "align_items": null,
            "bottom": null,
            "_model_module": "@jupyter-widgets/base",
            "top": null,
            "grid_column": null,
            "overflow_y": null,
            "overflow_x": null,
            "grid_auto_flow": null,
            "grid_area": null,
            "grid_template_columns": null,
            "flex": null,
            "_model_name": "LayoutModel",
            "justify_items": null,
            "grid_row": null,
            "max_height": null,
            "align_content": null,
            "visibility": null,
            "align_self": null,
            "height": null,
            "min_height": null,
            "padding": null,
            "grid_auto_rows": null,
            "grid_gap": null,
            "max_width": null,
            "order": null,
            "_view_module_version": "1.2.0",
            "grid_template_areas": null,
            "object_position": null,
            "object_fit": null,
            "grid_auto_columns": null,
            "margin": null,
            "display": null,
            "left": null
          }
        },
        "79c298f823514dd7962d64b48cbcb9b3": {
          "model_module": "@jupyter-widgets/controls",
          "model_name": "HTMLModel",
          "model_module_version": "1.5.0",
          "state": {
            "_view_name": "HTMLView",
            "style": "IPY_MODEL_82b70bbfc7f5409c856744e52fa29667",
            "_dom_classes": [],
            "description": "",
            "_model_name": "HTMLModel",
            "placeholder": "​",
            "_view_module": "@jupyter-widgets/controls",
            "_model_module_version": "1.5.0",
            "value": "",
            "_view_count": null,
            "_view_module_version": "1.5.0",
            "description_tooltip": null,
            "_model_module": "@jupyter-widgets/controls",
            "layout": "IPY_MODEL_4670ccda85594934a187b1a4eeee7a2b"
          }
        },
        "6d08eade935b48ccb7ff83bee15bcbe5": {
          "model_module": "@jupyter-widgets/controls",
          "model_name": "FloatProgressModel",
          "model_module_version": "1.5.0",
          "state": {
            "_view_name": "ProgressView",
            "style": "IPY_MODEL_79201ac4de234fac87502b6e90e7fd81",
            "_dom_classes": [],
            "description": "",
            "_model_name": "FloatProgressModel",
            "bar_style": "success",
            "max": 1648877,
            "_view_module": "@jupyter-widgets/controls",
            "_model_module_version": "1.5.0",
            "value": 1648877,
            "_view_count": null,
            "_view_module_version": "1.5.0",
            "orientation": "horizontal",
            "min": 0,
            "description_tooltip": null,
            "_model_module": "@jupyter-widgets/controls",
            "layout": "IPY_MODEL_b93e778e665c4b5b9765a04b5873a6b8"
          }
        },
        "218e021e03dd40a6b6168d1ecbeed5f1": {
          "model_module": "@jupyter-widgets/controls",
          "model_name": "HTMLModel",
          "model_module_version": "1.5.0",
          "state": {
            "_view_name": "HTMLView",
            "style": "IPY_MODEL_2871400affc84fabae5b48281b940ce2",
            "_dom_classes": [],
            "description": "",
            "_model_name": "HTMLModel",
            "placeholder": "​",
            "_view_module": "@jupyter-widgets/controls",
            "_model_module_version": "1.5.0",
            "value": " 1649664/? [00:00&lt;00:00, 8673411.08it/s]",
            "_view_count": null,
            "_view_module_version": "1.5.0",
            "description_tooltip": null,
            "_model_module": "@jupyter-widgets/controls",
            "layout": "IPY_MODEL_1724ba8826004f28b051e352fbb2c915"
          }
        },
        "82b70bbfc7f5409c856744e52fa29667": {
          "model_module": "@jupyter-widgets/controls",
          "model_name": "DescriptionStyleModel",
          "model_module_version": "1.5.0",
          "state": {
            "_view_name": "StyleView",
            "_model_name": "DescriptionStyleModel",
            "description_width": "",
            "_view_module": "@jupyter-widgets/base",
            "_model_module_version": "1.5.0",
            "_view_count": null,
            "_view_module_version": "1.2.0",
            "_model_module": "@jupyter-widgets/controls"
          }
        },
        "4670ccda85594934a187b1a4eeee7a2b": {
          "model_module": "@jupyter-widgets/base",
          "model_name": "LayoutModel",
          "model_module_version": "1.2.0",
          "state": {
            "_view_name": "LayoutView",
            "grid_template_rows": null,
            "right": null,
            "justify_content": null,
            "_view_module": "@jupyter-widgets/base",
            "overflow": null,
            "_model_module_version": "1.2.0",
            "_view_count": null,
            "flex_flow": null,
            "width": null,
            "min_width": null,
            "border": null,
            "align_items": null,
            "bottom": null,
            "_model_module": "@jupyter-widgets/base",
            "top": null,
            "grid_column": null,
            "overflow_y": null,
            "overflow_x": null,
            "grid_auto_flow": null,
            "grid_area": null,
            "grid_template_columns": null,
            "flex": null,
            "_model_name": "LayoutModel",
            "justify_items": null,
            "grid_row": null,
            "max_height": null,
            "align_content": null,
            "visibility": null,
            "align_self": null,
            "height": null,
            "min_height": null,
            "padding": null,
            "grid_auto_rows": null,
            "grid_gap": null,
            "max_width": null,
            "order": null,
            "_view_module_version": "1.2.0",
            "grid_template_areas": null,
            "object_position": null,
            "object_fit": null,
            "grid_auto_columns": null,
            "margin": null,
            "display": null,
            "left": null
          }
        },
        "79201ac4de234fac87502b6e90e7fd81": {
          "model_module": "@jupyter-widgets/controls",
          "model_name": "ProgressStyleModel",
          "model_module_version": "1.5.0",
          "state": {
            "_view_name": "StyleView",
            "_model_name": "ProgressStyleModel",
            "description_width": "",
            "_view_module": "@jupyter-widgets/base",
            "_model_module_version": "1.5.0",
            "_view_count": null,
            "_view_module_version": "1.2.0",
            "bar_color": null,
            "_model_module": "@jupyter-widgets/controls"
          }
        },
        "b93e778e665c4b5b9765a04b5873a6b8": {
          "model_module": "@jupyter-widgets/base",
          "model_name": "LayoutModel",
          "model_module_version": "1.2.0",
          "state": {
            "_view_name": "LayoutView",
            "grid_template_rows": null,
            "right": null,
            "justify_content": null,
            "_view_module": "@jupyter-widgets/base",
            "overflow": null,
            "_model_module_version": "1.2.0",
            "_view_count": null,
            "flex_flow": null,
            "width": null,
            "min_width": null,
            "border": null,
            "align_items": null,
            "bottom": null,
            "_model_module": "@jupyter-widgets/base",
            "top": null,
            "grid_column": null,
            "overflow_y": null,
            "overflow_x": null,
            "grid_auto_flow": null,
            "grid_area": null,
            "grid_template_columns": null,
            "flex": null,
            "_model_name": "LayoutModel",
            "justify_items": null,
            "grid_row": null,
            "max_height": null,
            "align_content": null,
            "visibility": null,
            "align_self": null,
            "height": null,
            "min_height": null,
            "padding": null,
            "grid_auto_rows": null,
            "grid_gap": null,
            "max_width": null,
            "order": null,
            "_view_module_version": "1.2.0",
            "grid_template_areas": null,
            "object_position": null,
            "object_fit": null,
            "grid_auto_columns": null,
            "margin": null,
            "display": null,
            "left": null
          }
        },
        "2871400affc84fabae5b48281b940ce2": {
          "model_module": "@jupyter-widgets/controls",
          "model_name": "DescriptionStyleModel",
          "model_module_version": "1.5.0",
          "state": {
            "_view_name": "StyleView",
            "_model_name": "DescriptionStyleModel",
            "description_width": "",
            "_view_module": "@jupyter-widgets/base",
            "_model_module_version": "1.5.0",
            "_view_count": null,
            "_view_module_version": "1.2.0",
            "_model_module": "@jupyter-widgets/controls"
          }
        },
        "1724ba8826004f28b051e352fbb2c915": {
          "model_module": "@jupyter-widgets/base",
          "model_name": "LayoutModel",
          "model_module_version": "1.2.0",
          "state": {
            "_view_name": "LayoutView",
            "grid_template_rows": null,
            "right": null,
            "justify_content": null,
            "_view_module": "@jupyter-widgets/base",
            "overflow": null,
            "_model_module_version": "1.2.0",
            "_view_count": null,
            "flex_flow": null,
            "width": null,
            "min_width": null,
            "border": null,
            "align_items": null,
            "bottom": null,
            "_model_module": "@jupyter-widgets/base",
            "top": null,
            "grid_column": null,
            "overflow_y": null,
            "overflow_x": null,
            "grid_auto_flow": null,
            "grid_area": null,
            "grid_template_columns": null,
            "flex": null,
            "_model_name": "LayoutModel",
            "justify_items": null,
            "grid_row": null,
            "max_height": null,
            "align_content": null,
            "visibility": null,
            "align_self": null,
            "height": null,
            "min_height": null,
            "padding": null,
            "grid_auto_rows": null,
            "grid_gap": null,
            "max_width": null,
            "order": null,
            "_view_module_version": "1.2.0",
            "grid_template_areas": null,
            "object_position": null,
            "object_fit": null,
            "grid_auto_columns": null,
            "margin": null,
            "display": null,
            "left": null
          }
        },
        "1ff1a6bb2d2b459a936039cef850c3f6": {
          "model_module": "@jupyter-widgets/controls",
          "model_name": "HBoxModel",
          "model_module_version": "1.5.0",
          "state": {
            "_view_name": "HBoxView",
            "_dom_classes": [],
            "_model_name": "HBoxModel",
            "_view_module": "@jupyter-widgets/controls",
            "_model_module_version": "1.5.0",
            "_view_count": null,
            "_view_module_version": "1.5.0",
            "box_style": "",
            "layout": "IPY_MODEL_5940714f34c6424198133d1853a2a1d1",
            "_model_module": "@jupyter-widgets/controls",
            "children": [
              "IPY_MODEL_c9d1260347044f5b98e93c139659599d",
              "IPY_MODEL_2b07c92b726f45dd9002224291d2a100",
              "IPY_MODEL_4e82f9d274eb4b9191e822dc11661aef"
            ]
          }
        },
        "5940714f34c6424198133d1853a2a1d1": {
          "model_module": "@jupyter-widgets/base",
          "model_name": "LayoutModel",
          "model_module_version": "1.2.0",
          "state": {
            "_view_name": "LayoutView",
            "grid_template_rows": null,
            "right": null,
            "justify_content": null,
            "_view_module": "@jupyter-widgets/base",
            "overflow": null,
            "_model_module_version": "1.2.0",
            "_view_count": null,
            "flex_flow": null,
            "width": null,
            "min_width": null,
            "border": null,
            "align_items": null,
            "bottom": null,
            "_model_module": "@jupyter-widgets/base",
            "top": null,
            "grid_column": null,
            "overflow_y": null,
            "overflow_x": null,
            "grid_auto_flow": null,
            "grid_area": null,
            "grid_template_columns": null,
            "flex": null,
            "_model_name": "LayoutModel",
            "justify_items": null,
            "grid_row": null,
            "max_height": null,
            "align_content": null,
            "visibility": null,
            "align_self": null,
            "height": null,
            "min_height": null,
            "padding": null,
            "grid_auto_rows": null,
            "grid_gap": null,
            "max_width": null,
            "order": null,
            "_view_module_version": "1.2.0",
            "grid_template_areas": null,
            "object_position": null,
            "object_fit": null,
            "grid_auto_columns": null,
            "margin": null,
            "display": null,
            "left": null
          }
        },
        "c9d1260347044f5b98e93c139659599d": {
          "model_module": "@jupyter-widgets/controls",
          "model_name": "HTMLModel",
          "model_module_version": "1.5.0",
          "state": {
            "_view_name": "HTMLView",
            "style": "IPY_MODEL_ae408fd0f61143fdb95a3ced7ec1746b",
            "_dom_classes": [],
            "description": "",
            "_model_name": "HTMLModel",
            "placeholder": "​",
            "_view_module": "@jupyter-widgets/controls",
            "_model_module_version": "1.5.0",
            "value": "",
            "_view_count": null,
            "_view_module_version": "1.5.0",
            "description_tooltip": null,
            "_model_module": "@jupyter-widgets/controls",
            "layout": "IPY_MODEL_aa01643b702f4213a594d329d98f8797"
          }
        },
        "2b07c92b726f45dd9002224291d2a100": {
          "model_module": "@jupyter-widgets/controls",
          "model_name": "FloatProgressModel",
          "model_module_version": "1.5.0",
          "state": {
            "_view_name": "ProgressView",
            "style": "IPY_MODEL_411dd01300c44b1692024dc0ec348797",
            "_dom_classes": [],
            "description": "",
            "_model_name": "FloatProgressModel",
            "bar_style": "success",
            "max": 4542,
            "_view_module": "@jupyter-widgets/controls",
            "_model_module_version": "1.5.0",
            "value": 4542,
            "_view_count": null,
            "_view_module_version": "1.5.0",
            "orientation": "horizontal",
            "min": 0,
            "description_tooltip": null,
            "_model_module": "@jupyter-widgets/controls",
            "layout": "IPY_MODEL_2391b3417cb3469cb337f95df70274ec"
          }
        },
        "4e82f9d274eb4b9191e822dc11661aef": {
          "model_module": "@jupyter-widgets/controls",
          "model_name": "HTMLModel",
          "model_module_version": "1.5.0",
          "state": {
            "_view_name": "HTMLView",
            "style": "IPY_MODEL_629ca12ef19c4970b832998ec1e3b657",
            "_dom_classes": [],
            "description": "",
            "_model_name": "HTMLModel",
            "placeholder": "​",
            "_view_module": "@jupyter-widgets/controls",
            "_model_module_version": "1.5.0",
            "value": " 5120/? [00:00&lt;00:00, 138095.63it/s]",
            "_view_count": null,
            "_view_module_version": "1.5.0",
            "description_tooltip": null,
            "_model_module": "@jupyter-widgets/controls",
            "layout": "IPY_MODEL_d38f57e3f6dc437ab02418c85846db20"
          }
        },
        "ae408fd0f61143fdb95a3ced7ec1746b": {
          "model_module": "@jupyter-widgets/controls",
          "model_name": "DescriptionStyleModel",
          "model_module_version": "1.5.0",
          "state": {
            "_view_name": "StyleView",
            "_model_name": "DescriptionStyleModel",
            "description_width": "",
            "_view_module": "@jupyter-widgets/base",
            "_model_module_version": "1.5.0",
            "_view_count": null,
            "_view_module_version": "1.2.0",
            "_model_module": "@jupyter-widgets/controls"
          }
        },
        "aa01643b702f4213a594d329d98f8797": {
          "model_module": "@jupyter-widgets/base",
          "model_name": "LayoutModel",
          "model_module_version": "1.2.0",
          "state": {
            "_view_name": "LayoutView",
            "grid_template_rows": null,
            "right": null,
            "justify_content": null,
            "_view_module": "@jupyter-widgets/base",
            "overflow": null,
            "_model_module_version": "1.2.0",
            "_view_count": null,
            "flex_flow": null,
            "width": null,
            "min_width": null,
            "border": null,
            "align_items": null,
            "bottom": null,
            "_model_module": "@jupyter-widgets/base",
            "top": null,
            "grid_column": null,
            "overflow_y": null,
            "overflow_x": null,
            "grid_auto_flow": null,
            "grid_area": null,
            "grid_template_columns": null,
            "flex": null,
            "_model_name": "LayoutModel",
            "justify_items": null,
            "grid_row": null,
            "max_height": null,
            "align_content": null,
            "visibility": null,
            "align_self": null,
            "height": null,
            "min_height": null,
            "padding": null,
            "grid_auto_rows": null,
            "grid_gap": null,
            "max_width": null,
            "order": null,
            "_view_module_version": "1.2.0",
            "grid_template_areas": null,
            "object_position": null,
            "object_fit": null,
            "grid_auto_columns": null,
            "margin": null,
            "display": null,
            "left": null
          }
        },
        "411dd01300c44b1692024dc0ec348797": {
          "model_module": "@jupyter-widgets/controls",
          "model_name": "ProgressStyleModel",
          "model_module_version": "1.5.0",
          "state": {
            "_view_name": "StyleView",
            "_model_name": "ProgressStyleModel",
            "description_width": "",
            "_view_module": "@jupyter-widgets/base",
            "_model_module_version": "1.5.0",
            "_view_count": null,
            "_view_module_version": "1.2.0",
            "bar_color": null,
            "_model_module": "@jupyter-widgets/controls"
          }
        },
        "2391b3417cb3469cb337f95df70274ec": {
          "model_module": "@jupyter-widgets/base",
          "model_name": "LayoutModel",
          "model_module_version": "1.2.0",
          "state": {
            "_view_name": "LayoutView",
            "grid_template_rows": null,
            "right": null,
            "justify_content": null,
            "_view_module": "@jupyter-widgets/base",
            "overflow": null,
            "_model_module_version": "1.2.0",
            "_view_count": null,
            "flex_flow": null,
            "width": null,
            "min_width": null,
            "border": null,
            "align_items": null,
            "bottom": null,
            "_model_module": "@jupyter-widgets/base",
            "top": null,
            "grid_column": null,
            "overflow_y": null,
            "overflow_x": null,
            "grid_auto_flow": null,
            "grid_area": null,
            "grid_template_columns": null,
            "flex": null,
            "_model_name": "LayoutModel",
            "justify_items": null,
            "grid_row": null,
            "max_height": null,
            "align_content": null,
            "visibility": null,
            "align_self": null,
            "height": null,
            "min_height": null,
            "padding": null,
            "grid_auto_rows": null,
            "grid_gap": null,
            "max_width": null,
            "order": null,
            "_view_module_version": "1.2.0",
            "grid_template_areas": null,
            "object_position": null,
            "object_fit": null,
            "grid_auto_columns": null,
            "margin": null,
            "display": null,
            "left": null
          }
        },
        "629ca12ef19c4970b832998ec1e3b657": {
          "model_module": "@jupyter-widgets/controls",
          "model_name": "DescriptionStyleModel",
          "model_module_version": "1.5.0",
          "state": {
            "_view_name": "StyleView",
            "_model_name": "DescriptionStyleModel",
            "description_width": "",
            "_view_module": "@jupyter-widgets/base",
            "_model_module_version": "1.5.0",
            "_view_count": null,
            "_view_module_version": "1.2.0",
            "_model_module": "@jupyter-widgets/controls"
          }
        },
        "d38f57e3f6dc437ab02418c85846db20": {
          "model_module": "@jupyter-widgets/base",
          "model_name": "LayoutModel",
          "model_module_version": "1.2.0",
          "state": {
            "_view_name": "LayoutView",
            "grid_template_rows": null,
            "right": null,
            "justify_content": null,
            "_view_module": "@jupyter-widgets/base",
            "overflow": null,
            "_model_module_version": "1.2.0",
            "_view_count": null,
            "flex_flow": null,
            "width": null,
            "min_width": null,
            "border": null,
            "align_items": null,
            "bottom": null,
            "_model_module": "@jupyter-widgets/base",
            "top": null,
            "grid_column": null,
            "overflow_y": null,
            "overflow_x": null,
            "grid_auto_flow": null,
            "grid_area": null,
            "grid_template_columns": null,
            "flex": null,
            "_model_name": "LayoutModel",
            "justify_items": null,
            "grid_row": null,
            "max_height": null,
            "align_content": null,
            "visibility": null,
            "align_self": null,
            "height": null,
            "min_height": null,
            "padding": null,
            "grid_auto_rows": null,
            "grid_gap": null,
            "max_width": null,
            "order": null,
            "_view_module_version": "1.2.0",
            "grid_template_areas": null,
            "object_position": null,
            "object_fit": null,
            "grid_auto_columns": null,
            "margin": null,
            "display": null,
            "left": null
          }
        }
      }
    }
  },
  "cells": [
    {
      "cell_type": "markdown",
      "metadata": {
        "id": "view-in-github",
        "colab_type": "text"
      },
      "source": [
        "<a href=\"https://colab.research.google.com/github/AhHosny/CIT690E-DL-Course/blob/master/LAB_2_building_neural_networks_with_pytorch.ipynb\" target=\"_parent\"><img src=\"https://colab.research.google.com/assets/colab-badge.svg\" alt=\"Open In Colab\"/></a>"
      ]
    },
    {
      "cell_type": "markdown",
      "metadata": {
        "id": "IhBmJEXHUpr3"
      },
      "source": [
        "## Building Neural Networks with PyTorch\n",
        "\n",
        "PyTorch provides a number of ways to create different types of neural networks. In this tutorial, we create two types of neural networks for image classification. First one is built using only simple feed-forward neural networks and the second one is Convolutional Neural Network.\n",
        "In this tutorial we cover:\n",
        "\n",
        "**1. Dataset**\n",
        "\n",
        "**2. Building Feed Forward Neural Network with PyTorch**\n",
        "\n",
        "**3. Building Convolutional Neural Networks with PyTorch**"
      ]
    },
    {
      "cell_type": "markdown",
      "metadata": {
        "id": "rY7tDIAIV0W_"
      },
      "source": [
        "## 1. Dataset\n",
        "\n",
        "In this tutorial, we implement neural networks for image classification of the MNIST dataset. So let’s learn a little bit about this dataset.\n",
        "\n",
        "\n",
        "This dataset is the standard MNIST dataset which is often used as a “Hello world” example. In fact, the MNIST dataset has a training set of 60,000 samples and a testing set of 10,000 images of handwritten digits.\n",
        "\n",
        "There are 10 classes (digits from 0 to 9). The goal of the neural network is to learn these classes and being able to successfully categorize new images. All images in the dataset have been size-normalized and centered. The size of the images is fixed to 28×28, so the preprocessing image data is minimized."
      ]
    },
    {
      "cell_type": "markdown",
      "metadata": {
        "id": "tLMc8KDBfPLD"
      },
      "source": [
        "## 2. Building Feed Forward Neural Networks with PyTorch\n",
        "Let’s start with the PyTorch implementation of neural networks. First, we need to import all necessary modules:"
      ]
    },
    {
      "cell_type": "code",
      "metadata": {
        "id": "cacU960esS40"
      },
      "source": [
        "import torch\n",
        "import torch.nn as nn\n",
        "import torch.nn.functional as F\n",
        "from torchvision.datasets import MNIST\n",
        "from torchvision.transforms import ToTensor\n",
        "from torchvision.utils import make_grid\n",
        "from torch.utils.data.dataloader import DataLoader\n",
        "from torch.utils.data import random_split\n",
        "\n",
        "import numpy as np\n",
        "import matplotlib.pyplot as plt"
      ],
      "execution_count": 1,
      "outputs": []
    },
    {
      "cell_type": "code",
      "metadata": {
        "id": "knMEKzpOvfHh"
      },
      "source": [
        "device = torch.device(\"cuda\" if torch.cuda.is_available() else \"cpu\")"
      ],
      "execution_count": 2,
      "outputs": []
    },
    {
      "cell_type": "markdown",
      "metadata": {
        "id": "8rVLcGvqgN29"
      },
      "source": [
        "You can see that we are pretty much only using PyTorch modules (except from NumPy and Matplotlib). Using <font color='red'>`nn`</font> module, we are able to create different neural network layers, and using <font color='red'>`nn.functional`</font> we can implement different activation functions. Apart from PyTorch libraries, we use some modules from <font color='red'>`torchvision`</font> library. Namely, we use the MNIST module, which contains MNIST data."
      ]
    },
    {
      "cell_type": "markdown",
      "metadata": {
        "id": "K04zoEsyfDKF"
      },
      "source": [
        "### 2.1 Loading Data with PyTorch"
      ]
    },
    {
      "cell_type": "code",
      "metadata": {
        "colab": {
          "base_uri": "https://localhost:8080/",
          "height": 501,
          "referenced_widgets": [
            "15f3b08343644ec09cc31af0d8c6c5a2",
            "f54d90187dd14e10b5aa97a5b658750f",
            "68d70843cb894e34b42da1a5816a47e0",
            "e9224e423b174e87b24a13598ea197f1",
            "de201cea5fd9470ebb089c28e1c4076a",
            "579868b174bd4fe3aa842b6f1c6e7e1a",
            "6fb528390f57410cb75934ad5f1482a1",
            "dced262739a44ad18ea90b2ca3817dff",
            "a0dd0f0207284d2097b10a31e5bafe2d",
            "71a3acb6ea214640bcb6273ec707f6d7",
            "62331b2298da4ee88e6524ad5418be97",
            "9cb996cd19f642c4be9d17c6abe661e9",
            "6b4a4f01469149c48ae42b33ab4f5d6c",
            "7e17fffd2dc649df930a4a8c234d48e7",
            "c0fb8173fa92465a9e37fdc0fc3f5ab5",
            "5ab078146c97480981a81e30063b496b",
            "926e08b63b784b7fabe8ca471e400c68",
            "051ff4b213df4a5ba74a8057efd90b9f",
            "a35d98d340174885941e200bbb4fc27e",
            "a0d8e046023247e19b1775eb5c331dd0",
            "df7fd51f1af34630871cc07a90022f18",
            "80973aa274e14bf58b8a926170f6d692",
            "9d9485dd32464d5297f5133b48c3b459",
            "39925c7a60dc420290a727c88a423bab",
            "79c298f823514dd7962d64b48cbcb9b3",
            "6d08eade935b48ccb7ff83bee15bcbe5",
            "218e021e03dd40a6b6168d1ecbeed5f1",
            "82b70bbfc7f5409c856744e52fa29667",
            "4670ccda85594934a187b1a4eeee7a2b",
            "79201ac4de234fac87502b6e90e7fd81",
            "b93e778e665c4b5b9765a04b5873a6b8",
            "2871400affc84fabae5b48281b940ce2",
            "1724ba8826004f28b051e352fbb2c915",
            "1ff1a6bb2d2b459a936039cef850c3f6",
            "5940714f34c6424198133d1853a2a1d1",
            "c9d1260347044f5b98e93c139659599d",
            "2b07c92b726f45dd9002224291d2a100",
            "4e82f9d274eb4b9191e822dc11661aef",
            "ae408fd0f61143fdb95a3ced7ec1746b",
            "aa01643b702f4213a594d329d98f8797",
            "411dd01300c44b1692024dc0ec348797",
            "2391b3417cb3469cb337f95df70274ec",
            "629ca12ef19c4970b832998ec1e3b657",
            "d38f57e3f6dc437ab02418c85846db20"
          ]
        },
        "id": "va6W4ijYsVCB",
        "outputId": "b6c04ae6-5326-4952-f950-ebd3bca2665c"
      },
      "source": [
        "data = MNIST(root='data/', download=True, transform=ToTensor())\n",
        "\n",
        "validation_size = int(len(data) * 0.2)\n",
        "train_size = len(data) - validation_size\n",
        "\n",
        "train_data, val_data = random_split(data, [train_size, validation_size])\n",
        "\n",
        "batch_size=128\n",
        "train_loader = DataLoader(train_data, batch_size, shuffle=True, num_workers=4, pin_memory=True)\n",
        "val_loader = DataLoader(val_data, batch_size*2, num_workers=4, pin_memory=True)"
      ],
      "execution_count": 3,
      "outputs": [
        {
          "output_type": "stream",
          "name": "stdout",
          "text": [
            "Downloading http://yann.lecun.com/exdb/mnist/train-images-idx3-ubyte.gz\n",
            "Downloading http://yann.lecun.com/exdb/mnist/train-images-idx3-ubyte.gz to data/MNIST/raw/train-images-idx3-ubyte.gz\n"
          ]
        },
        {
          "output_type": "display_data",
          "data": {
            "application/vnd.jupyter.widget-view+json": {
              "model_id": "15f3b08343644ec09cc31af0d8c6c5a2",
              "version_minor": 0,
              "version_major": 2
            },
            "text/plain": [
              "  0%|          | 0/9912422 [00:00<?, ?it/s]"
            ]
          },
          "metadata": {}
        },
        {
          "output_type": "stream",
          "name": "stdout",
          "text": [
            "Extracting data/MNIST/raw/train-images-idx3-ubyte.gz to data/MNIST/raw\n",
            "\n",
            "Downloading http://yann.lecun.com/exdb/mnist/train-labels-idx1-ubyte.gz\n",
            "Downloading http://yann.lecun.com/exdb/mnist/train-labels-idx1-ubyte.gz to data/MNIST/raw/train-labels-idx1-ubyte.gz\n"
          ]
        },
        {
          "output_type": "display_data",
          "data": {
            "application/vnd.jupyter.widget-view+json": {
              "model_id": "9cb996cd19f642c4be9d17c6abe661e9",
              "version_minor": 0,
              "version_major": 2
            },
            "text/plain": [
              "  0%|          | 0/28881 [00:00<?, ?it/s]"
            ]
          },
          "metadata": {}
        },
        {
          "output_type": "stream",
          "name": "stdout",
          "text": [
            "Extracting data/MNIST/raw/train-labels-idx1-ubyte.gz to data/MNIST/raw\n",
            "\n",
            "Downloading http://yann.lecun.com/exdb/mnist/t10k-images-idx3-ubyte.gz\n",
            "Downloading http://yann.lecun.com/exdb/mnist/t10k-images-idx3-ubyte.gz to data/MNIST/raw/t10k-images-idx3-ubyte.gz\n"
          ]
        },
        {
          "output_type": "display_data",
          "data": {
            "application/vnd.jupyter.widget-view+json": {
              "model_id": "9d9485dd32464d5297f5133b48c3b459",
              "version_minor": 0,
              "version_major": 2
            },
            "text/plain": [
              "  0%|          | 0/1648877 [00:00<?, ?it/s]"
            ]
          },
          "metadata": {}
        },
        {
          "output_type": "stream",
          "name": "stdout",
          "text": [
            "Extracting data/MNIST/raw/t10k-images-idx3-ubyte.gz to data/MNIST/raw\n",
            "\n",
            "Downloading http://yann.lecun.com/exdb/mnist/t10k-labels-idx1-ubyte.gz\n",
            "Downloading http://yann.lecun.com/exdb/mnist/t10k-labels-idx1-ubyte.gz to data/MNIST/raw/t10k-labels-idx1-ubyte.gz\n"
          ]
        },
        {
          "output_type": "display_data",
          "data": {
            "application/vnd.jupyter.widget-view+json": {
              "model_id": "1ff1a6bb2d2b459a936039cef850c3f6",
              "version_minor": 0,
              "version_major": 2
            },
            "text/plain": [
              "  0%|          | 0/4542 [00:00<?, ?it/s]"
            ]
          },
          "metadata": {}
        },
        {
          "output_type": "stream",
          "name": "stdout",
          "text": [
            "Extracting data/MNIST/raw/t10k-labels-idx1-ubyte.gz to data/MNIST/raw\n",
            "\n"
          ]
        },
        {
          "output_type": "stream",
          "name": "stderr",
          "text": [
            "/usr/local/lib/python3.7/dist-packages/torchvision/datasets/mnist.py:498: UserWarning: The given NumPy array is not writeable, and PyTorch does not support non-writeable tensors. This means you can write to the underlying (supposedly non-writeable) NumPy array using the tensor. You may want to copy the array to protect its data or make it writeable before converting it to a tensor. This type of warning will be suppressed for the rest of this program. (Triggered internally at  /pytorch/torch/csrc/utils/tensor_numpy.cpp:180.)\n",
            "  return torch.from_numpy(parsed.astype(m[2], copy=False)).view(*s)\n",
            "/usr/local/lib/python3.7/dist-packages/torch/utils/data/dataloader.py:481: UserWarning: This DataLoader will create 4 worker processes in total. Our suggested max number of worker in current system is 2, which is smaller than what this DataLoader is going to create. Please be aware that excessive worker creation might get DataLoader running slow or even freeze, lower the worker number to avoid potential slowness/freeze if necessary.\n",
            "  cpuset_checked))\n"
          ]
        }
      ]
    },
    {
      "cell_type": "markdown",
      "metadata": {
        "id": "ai1RpktOswNg"
      },
      "source": [
        "Here is what that looks like:"
      ]
    },
    {
      "cell_type": "code",
      "metadata": {
        "colab": {
          "base_uri": "https://localhost:8080/",
          "height": 605
        },
        "id": "KfIdbfLUsViy",
        "outputId": "16bacdac-7ebd-428f-8b6b-19351514f351"
      },
      "source": [
        "examples = enumerate(train_loader)\n",
        "batch_idx, (example_data, example_targets) = next(examples)\n",
        "\n",
        "fig = plt.figure()\n",
        "for i in range(6):\n",
        "  plt.subplot(2,3,i+1)\n",
        "  plt.tight_layout()\n",
        "  plt.imshow(example_data[i][0], cmap='gray', interpolation='none')\n",
        "  plt.title(\"Ground Truth: {}\".format(example_targets[i]))\n",
        "  plt.xticks([])\n",
        "  plt.yticks([])\n",
        "\n",
        "fig"
      ],
      "execution_count": 4,
      "outputs": [
        {
          "output_type": "stream",
          "name": "stderr",
          "text": [
            "/usr/local/lib/python3.7/dist-packages/torch/utils/data/dataloader.py:481: UserWarning: This DataLoader will create 4 worker processes in total. Our suggested max number of worker in current system is 2, which is smaller than what this DataLoader is going to create. Please be aware that excessive worker creation might get DataLoader running slow or even freeze, lower the worker number to avoid potential slowness/freeze if necessary.\n",
            "  cpuset_checked))\n"
          ]
        },
        {
          "output_type": "execute_result",
          "data": {
            "image/png": "[encoded data removed]",
            "text/plain": [
              "<Figure size 432x288 with 6 Axes>"
            ]
          },
          "metadata": {},
          "execution_count": 4
        },
        {
          "output_type": "display_data",
          "data": {
            "image/png": "[encoded data removed]",
            "text/plain": [
              "<Figure size 432x288 with 6 Axes>"
            ]
          },
          "metadata": {}
        }
      ]
    },
    {
      "cell_type": "markdown",
      "metadata": {
        "id": "eKGLXKOzhIPT"
      },
      "source": [
        "First, we create an object of the MNIST class, which essentially contains all the necessary data. We split this data into training and validation sets. Training data is used during the training process of supervised learning, which is a method neural networks use to learn from the data.\n",
        "\n",
        "Validation of data is also used during the training process to evaluate how well neural networks perform. Then we use <font color='red'>`DataLoader`</font> class to shuffle data and separate it into batches that are feed to neural networks during each training step.\n",
        "\n",
        "**Note**: Usually, we would create one test set too, for final evaluation of neural network performance on thus far unseen data, but for this simple tutorial, this is enough."
      ]
    },
    {
      "cell_type": "markdown",
      "metadata": {
        "id": "W_7W3_Jbhrts"
      },
      "source": [
        "### 2.2 Feed Forward Neural Network with PyTorch\n",
        "\n",
        "Essentially, when you want to build some model using PyTorch you can **inherit** <font color='red'>`nn.Module`</font> class. This way you can just by overriding several methods create different types of neural networks.\n",
        "\n",
        "We utilize that to create a model that receives several parameters through the constructor. It receives **input size** (ie. number of neurons in the input layer), **number hidden layers** and their size, **output size** (ie. number of neurons in the output layer/number of categories), and the **activation function** that is going to be used in each layer.\n",
        "\n",
        "![ffnn](https://www.3blue1brown.com/content/lessons/2017/neural-networks/output-layer.png)\n",
        "\n",
        "\n"
      ]
    },
    {
      "cell_type": "code",
      "metadata": {
        "id": "8fREtYD8iSPC"
      },
      "source": [
        "class FFNN(nn.Module):\n",
        "    \"\"\"Simple Feed Forward Neural Network with n hidden layers\"\"\"\n",
        "    def __init__(self, input_size, num_hidden_layers, hidden_size, out_size, accuracy_function):\n",
        "        super().__init__()\n",
        "        self.accuracy_function = accuracy_function\n",
        "        \n",
        "        # Create first hidden layer\n",
        "        self.input_layer = nn.Linear(input_size, hidden_size)\n",
        "        \n",
        "        # Create remaining hidden layers\n",
        "        self.hidden_layers = nn.ModuleList()\n",
        "        for i in range(0, num_hidden_layers):\n",
        "            self.hidden_layers.append(nn.Linear(hidden_size, hidden_size))\n",
        "        \n",
        "        # Create output layer\n",
        "        self.output_layer = nn.Linear(hidden_size, out_size)\n",
        "        \n",
        "    def forward(self, input_image):\n",
        "        # Flatten image\n",
        "        input_image = input_image.view(input_image.size(0), -1)\n",
        "        \n",
        "        # Utilize hidden layers and apply activation function\n",
        "        output = self.input_layer(input_image)\n",
        "        output = F.relu(output)\n",
        "        \n",
        "        for layer in self.hidden_layers:\n",
        "            output = layer(output)\n",
        "            output = F.relu(output)\n",
        "        \n",
        "        # Get predictions\n",
        "        output = self.output_layer(output)\n",
        "        return output\n",
        "    \n",
        "    def training_step(self, batch):\n",
        "        # Load batch\n",
        "        images, labels = batch\n",
        "\n",
        "        # Get data to cuda if possible\n",
        "        images = images.to(device=device)\n",
        "        labels = labels.to(device=device)\n",
        "        \n",
        "        # Generate predictions\n",
        "        output = self(images) \n",
        "        \n",
        "        # Calculate loss\n",
        "        loss = F.cross_entropy(output, labels)\n",
        "        return loss\n",
        "    \n",
        "    def validation_step(self, batch):\n",
        "        # Load batch\n",
        "        images, labels = batch\n",
        "\n",
        "        # Get data to cuda if possible\n",
        "        images = images.to(device=device)\n",
        "        labels = labels.to(device=device)\n",
        "\n",
        "        # Generate predictions\n",
        "        output = self(images) \n",
        "        \n",
        "        # Calculate loss\n",
        "        loss = F.cross_entropy(output, labels)\n",
        "\n",
        "        # Calculate accuracy\n",
        "        acc = self.accuracy_function(output, labels)\n",
        "        \n",
        "        return {'val_loss': loss, 'val_acc': acc}\n",
        "        \n",
        "    def validation_epoch_end(self, outputs):\n",
        "        \n",
        "        # Combine losses and return mean value\n",
        "        batch_losses = [x['val_loss'] for x in outputs]\n",
        "        epoch_loss = torch.stack(batch_losses).mean()\n",
        "        \n",
        "        # Combine accuracies and return mean value\n",
        "        batch_accs = [x['val_acc'] for x in outputs]\n",
        "        epoch_acc = torch.stack(batch_accs).mean()\n",
        "        return {'val_loss': epoch_loss.item(), 'val_acc': epoch_acc.item()}\n",
        "    \n",
        "    def epoch_end(self, epoch, result):\n",
        "        print(\"Epoch: {} - Validation Loss: {:.4f}, Validation Accuracy: {:.4f}\".format(epoch, result['val_loss'], result['val_acc']))"
      ],
      "execution_count": 5,
      "outputs": []
    },
    {
      "cell_type": "markdown",
      "metadata": {
        "id": "ndw6T2AqjTq1"
      },
      "source": [
        "In order for PyTorch to know that model has certain layers, you need to create a class **attribute** for each layer. That is why we create <font color='red'>`self.input_layer`</font> and <font color='red'>`self.output_layer`</font> attributes.\n",
        "\n",
        "**Note**: For hidden layers we use a different approach. We create an array of layers with <font color='red'>`nn.ModuleList()`</font>, since this is configurable through num_hidden_layers parameter. For every layer we use <font color='red'>`nn.Linear`</font>, which creates a simple layer with a defined number of neurons. Layers of this type perform simple $y = wx + b$ function.\n",
        "\n",
        "Apart from this, we need to override one important <font color='red'>`nn.Module`</font> method – **forward**. This function defines how the input will be processed in our neural network. This function basically connects all layers we defined in the constructor. Let’s examine it in more details:"
      ]
    },
    {
      "cell_type": "code",
      "metadata": {
        "id": "e1uXfo6MkI71"
      },
      "source": [
        "def forward(self, input_image):\n",
        "\t# Flatten image\n",
        "\tinput_image = input_image.view(input_image.size(0), -1)\n",
        "\t\n",
        "\t# Utilize hidden layers and apply activation function\n",
        "\toutput = self.input_layer(input_image)\n",
        "\toutput = F.relu(output)\n",
        "\t\n",
        "\tfor layer in self.hidden_layers:\n",
        "\t\toutput = layer(output)\n",
        "\t\toutput = F.relu(output)\n",
        "\t\n",
        "\t# Get predictions\n",
        "\toutput = self.output_layer(output)\n",
        "\treturn output"
      ],
      "execution_count": 6,
      "outputs": []
    },
    {
      "cell_type": "markdown",
      "metadata": {
        "id": "SjfgDqt6klqK"
      },
      "source": [
        "First, we **flatten** the image, meaning we reshape it into an array. We do this because the input layer of our neural network can not receive 2D inputs. Then pass this information through each linear layer and apply the rectifier or **ReLu** activation function which is defined with the formula $relu(x) = max(0,x)$. This activation function is most commonly used for hidden layers since it gives the best results.\n",
        "\n",
        "**Note**: We don’t use ReLu after the output layer. This is because on the output we expect to get **probabilities** for each class."
      ]
    },
    {
      "cell_type": "markdown",
      "metadata": {
        "id": "naPVWy8JkXAS"
      },
      "source": [
        "### 2.3 Training Feed Forward Neural Network with PyTorch\n",
        "\n",
        "Apart from the forward function, there are various other methods we implement in order to better control the training of the network. Methods **training_step** and **validation_step** define what is done during every training and validation pass:"
      ]
    },
    {
      "cell_type": "code",
      "metadata": {
        "id": "mkDUTIC8lU-x"
      },
      "source": [
        "def training_step(self, batch):\n",
        "  # Load batch\n",
        "  images, labels = batch\n",
        "\n",
        "  # Get data to cuda if possible\n",
        "  images = images.to(device=device)\n",
        "  labels = labels.to(device=device)\n",
        "\n",
        "  # Generate predictions\n",
        "  output = self(images)\n",
        "\n",
        "  # Calculate loss\n",
        "  loss = F.cross_entropy(output, labels)\n",
        "  return loss\n",
        "\n",
        "def validation_step(self, batch):\n",
        "  # Load batch\n",
        "  images, labels = batch \n",
        "\n",
        "  # Get data to cuda if possible\n",
        "  images = images.to(device=device)\n",
        "  labels = labels.to(device=device)\n",
        "\n",
        "  # Generate predictions\n",
        "  output = self(images) \n",
        "\n",
        "  # Calculate loss\n",
        "  loss = F.cross_entropy(output, labels)\n",
        "\n",
        "  # Calculate accuracy\n",
        "  acc = self.accuracy_function(output, labels)\n",
        "\n",
        "  return {'val_loss': loss, 'val_acc': acc}"
      ],
      "execution_count": 7,
      "outputs": []
    },
    {
      "cell_type": "markdown",
      "metadata": {
        "id": "4i6ujYb6ljdJ"
      },
      "source": [
        "The *training_step* function takes the **batch** of images that are provided by the DataLoader and pushes them through the network to get the **prediction**. Underneath, PyTorch uses *forward* function for this. Once this is done, we detect how well the neural network performed by calculating **loss**.\n",
        "\n",
        "**Note**: The different functions can be used to measure the difference between predicted data and real data. In this example, we use **cross-entropy**.\n",
        "\n",
        "Method *validation_step* looks similar, but this method also calculates the **accuracy** of our predictions using *accuracy_function* we passed through the constructor and stores loss and returns the dictionary with this information.\n",
        "\n",
        "Once the validation epoch ends we combine all these into an array, so we can see the history of the training process. Also at the end of every epoch, we print out information *validation_step* returned. Last two functionalities are implemented within *validation_epoch_end* and *epoch_end* methods:"
      ]
    },
    {
      "cell_type": "code",
      "metadata": {
        "id": "Y9O17Ev8m4ZG"
      },
      "source": [
        "def validation_epoch_end(self, outputs):\n",
        "\t\n",
        "\t# Combine losses and return mean value\n",
        "\tbatch_losses = [x['val_loss'] for x in outputs]\n",
        "\tepoch_loss = torch.stack(batch_losses).mean()\n",
        "\t\n",
        "\t# Combine accuracies and return mean value\n",
        "\tbatch_accs = [x['val_acc'] for x in outputs]\n",
        "\tepoch_acc = torch.stack(batch_accs).mean()\n",
        "\treturn {'val_loss': epoch_loss.item(), 'val_acc': epoch_acc.item()}\n",
        "\n",
        "def epoch_end(self, epoch, result):\n",
        "\tprint(\"Epoch: {} - Validation Loss: {:.4f}, Validation Accuracy: {:.4f}\".format(epoch, result['val_loss'], result['val_acc']))"
      ],
      "execution_count": 8,
      "outputs": []
    },
    {
      "cell_type": "markdown",
      "metadata": {
        "id": "sQMEwZZ-m_2y"
      },
      "source": [
        "In order to automate the **training** process of the neural networks, we implement one more class **ModelTrainer**:"
      ]
    },
    {
      "cell_type": "code",
      "metadata": {
        "id": "gZH-6PDxnHGz"
      },
      "source": [
        "class ModelTrainer():   \n",
        "  def fit(self, epochs, learning_rate, model, train_loader, val_loader, opt_func=torch.optim.SGD):\n",
        "    history = []\n",
        "    optimizer = opt_func(model.parameters(), learning_rate)\n",
        "\n",
        "    for epoch in range(epochs):\n",
        "        # Training \n",
        "        for batch in train_loader:\n",
        "            loss = model.training_step(batch)\n",
        "            loss.backward()\n",
        "            optimizer.step()\n",
        "            optimizer.zero_grad()\n",
        "\n",
        "        # Validation\n",
        "        result = self._evaluate(model, val_loader)\n",
        "        model.epoch_end(epoch, result)\n",
        "        history.append(result)\n",
        "        \n",
        "    return history\n",
        "\n",
        "  def _evaluate(self, model, val_loader):\n",
        "    outputs = [model.validation_step(batch) for batch in val_loader]\n",
        "    return model.validation_epoch_end(outputs)"
      ],
      "execution_count": 9,
      "outputs": []
    },
    {
      "cell_type": "markdown",
      "metadata": {
        "id": "gWERwlS0ntwB"
      },
      "source": [
        "This class has two methods **fit** and **_evaluate**. Method **fit** is used for training. It receives a *model*, *number of epochs* (number of times the whole dataset will be passed through the network), *learning rate* and *data loaders*. For each **epoch**, we get batches from the loader and run it through the network by calling the *training_step* method. Then we get the *loss* and use the **backward** method to calculate **gradients**. Finally, we use the **optimizer** to update the **weights** of the network."
      ]
    },
    {
      "cell_type": "markdown",
      "metadata": {
        "id": "tgdBWqCJoa-6"
      },
      "source": [
        "Alright, those are the classes that describe the **general** neural network and general training process. We need to get more specific and utilize this class for our problem. To do so, we first need to implement accuracy function:"
      ]
    },
    {
      "cell_type": "code",
      "metadata": {
        "id": "EeOLz4X-ohT4"
      },
      "source": [
        "def accuracy(outputs, labels):\n",
        "  _, preds = torch.max(outputs, dim=1)\n",
        "  return torch.tensor(torch.sum(preds == labels).item() / len(preds))"
      ],
      "execution_count": 10,
      "outputs": []
    },
    {
      "cell_type": "markdown",
      "metadata": {
        "id": "x_1azhUcom3_"
      },
      "source": [
        "Also, we define helper function for ploting history:"
      ]
    },
    {
      "cell_type": "code",
      "metadata": {
        "id": "KkvrhJu0ooC-"
      },
      "source": [
        "def plot_history(history):\n",
        "  losses = [x['val_loss'] for x in history]\n",
        "  plt.plot(losses, '-x')\n",
        "  plt.xlabel('Epoch')\n",
        "  plt.ylabel('Loss')\n",
        "\n",
        "  accuracies = [x['val_acc'] for x in history]\n",
        "  plt.plot(accuracies, '-x')\n",
        "  plt.xlabel('epoch')\n",
        "  plt.ylabel('accuracy')\n",
        "  plt.title('Loss and Accuracy')"
      ],
      "execution_count": 11,
      "outputs": []
    },
    {
      "cell_type": "markdown",
      "metadata": {
        "id": "9mxiXlYRouDK"
      },
      "source": [
        "### 2.4 Running it all Together\n",
        "\n",
        "Finally, we can put all these pieces together and create the object of **FFNN**. We create an neural network with 3 hidden layers and with 32 neurons in each hidden layer. Note that the input size is $28×28=784$ and the output size is 10 since we have 10 digits/classes:"
      ]
    },
    {
      "cell_type": "code",
      "metadata": {
        "colab": {
          "base_uri": "https://localhost:8080/"
        },
        "id": "shu7qaiDpFnr",
        "outputId": "c8e33190-12b1-4f63-e3c9-aefad7c0d276"
      },
      "source": [
        "input_size = 784\n",
        "num_classes = 10\n",
        "num_hidden_layers = 3\n",
        "\n",
        "model = FFNN(input_size, num_hidden_layers, 32, out_size=num_classes, accuracy_function=accuracy).to(device)\n",
        "print(model)"
      ],
      "execution_count": 12,
      "outputs": [
        {
          "output_type": "stream",
          "name": "stdout",
          "text": [
            "FFNN(\n",
            "  (input_layer): Linear(in_features=784, out_features=32, bias=True)\n",
            "  (hidden_layers): ModuleList(\n",
            "    (0): Linear(in_features=32, out_features=32, bias=True)\n",
            "    (1): Linear(in_features=32, out_features=32, bias=True)\n",
            "    (2): Linear(in_features=32, out_features=32, bias=True)\n",
            "  )\n",
            "  (output_layer): Linear(in_features=32, out_features=10, bias=True)\n",
            ")\n"
          ]
        }
      ]
    },
    {
      "cell_type": "markdown",
      "metadata": {
        "id": "JI2S3Vi3pPWo"
      },
      "source": [
        "Let’s train it and plot the history and accuracy:"
      ]
    },
    {
      "cell_type": "code",
      "metadata": {
        "colab": {
          "base_uri": "https://localhost:8080/",
          "height": 433
        },
        "id": "t9-hiSiUpRcH",
        "outputId": "b0a36a54-465a-419a-a45f-829be48f6d01"
      },
      "source": [
        "model_trainer = ModelTrainer()\n",
        "\n",
        "training_history = []\n",
        "training_history = model_trainer.fit(5, 0.2, model, train_loader, val_loader)\n",
        "\n",
        "plot_history(training_history)"
      ],
      "execution_count": 13,
      "outputs": [
        {
          "output_type": "stream",
          "name": "stderr",
          "text": [
            "/usr/local/lib/python3.7/dist-packages/torch/utils/data/dataloader.py:481: UserWarning: This DataLoader will create 4 worker processes in total. Our suggested max number of worker in current system is 2, which is smaller than what this DataLoader is going to create. Please be aware that excessive worker creation might get DataLoader running slow or even freeze, lower the worker number to avoid potential slowness/freeze if necessary.\n",
            "  cpuset_checked))\n"
          ]
        },
        {
          "output_type": "stream",
          "name": "stdout",
          "text": [
            "Epoch: 0 - Validation Loss: 0.3690, Validation Accuracy: 0.8984\n",
            "Epoch: 1 - Validation Loss: 0.2127, Validation Accuracy: 0.9395\n",
            "Epoch: 2 - Validation Loss: 0.1759, Validation Accuracy: 0.9481\n",
            "Epoch: 3 - Validation Loss: 0.1617, Validation Accuracy: 0.9525\n",
            "Epoch: 4 - Validation Loss: 0.1672, Validation Accuracy: 0.9533\n"
          ]
        },
        {
          "output_type": "display_data",
          "data": {
            "image/png": "[encoded data removed]",
            "text/plain": [
              "<Figure size 432x288 with 1 Axes>"
            ]
          },
          "metadata": {
            "needs_background": "light"
          }
        }
      ]
    },
    {
      "cell_type": "markdown",
      "metadata": {
        "id": "dty9cS_Mqh-g"
      },
      "source": [
        "Notice how loss is getting lower and the accuracy is getting better. In the end after only 5 epochs we reached accuracy of 96%."
      ]
    },
    {
      "cell_type": "markdown",
      "metadata": {
        "id": "RR7wpWmIwCqn"
      },
      "source": [
        "## 3. Building Convolutional Neural Networks with PyTorch\n",
        "\n",
        "If you want to process and classify images one of the best ways to do so is by using **Convolutional Neural Networks**. This type of network is in a way responsible for deep learning hype in the past couple of years. In the end, they use feed-forward neural networks, but they have a couple of tricks for image processing.\n",
        "\n",
        "At its core, we can find the **convolution** process. This process is used for making detecting features of the images and uses this information for classification. Here is how the complete **architecture** of Convolutional Neural Networks looks like:\n",
        "\n",
        "![cnn](https://miro.medium.com/max/3744/1*SGPGG7oeSvVlV5sOSQ2iZw.png)"
      ]
    },
    {
      "cell_type": "markdown",
      "metadata": {
        "id": "7OwBVhtExIuo"
      },
      "source": [
        "First, **convolution** layers detect features (line, curve, etc) of the image using filters. They create so-called **feature maps** that contain information about where in the image certain feature is located. These maps are further compressed by the **pooling** layers after which are **flattened** into 1D array. Finally, a feed-forward network is used for classification, which is in this context called **fully connected**.\n",
        "\n",
        "PyTorch <font color='red'>`nn`</font> module provides a number of other layer trypes, apart from the Linear that we already used. Here is how we can implement the process described above:"
      ]
    },
    {
      "cell_type": "code",
      "metadata": {
        "id": "CAboo2a2xnL2"
      },
      "source": [
        "class CNN(nn.Module):\n",
        "    \"\"\"Simple Convolutional Neural Network\"\"\"\n",
        "    def __init__(self, accuracy_function):\n",
        "        super().__init__()\n",
        "        self.accuracy_function = accuracy_function\n",
        "\n",
        "        # Create Convolutional Layers\n",
        "        self.conv1 = torch.nn.Conv2d(in_channels=1, out_channels=32, kernel_size=3, stride=1, padding=1)\n",
        "        self.conv2 = torch.nn.Conv2d(in_channels=32, out_channels=64, kernel_size=3, stride=1, padding=1)\n",
        "        \n",
        "        # Create Max Pooling Layer\n",
        "        self.max_pool2d = torch.nn.MaxPool2d(kernel_size=2, stride=2)\n",
        "\n",
        "        # Create Fully Connected Layers\n",
        "        self.fc1 = nn.Linear(7*7*64, 128) \n",
        "        self.fc2 = nn.Linear(128, 10)\n",
        "        \n",
        "    def forward(self, input_image):\n",
        "        # Convolution, ReLu and MaxPooling\n",
        "        output = self.conv1(input_image)\n",
        "        output = F.relu(output)\n",
        "        output = self.max_pool2d(output)\n",
        "\n",
        "        output = self.conv2(output)\n",
        "        output = F.relu(output)\n",
        "        output = self.max_pool2d(output)\n",
        "\n",
        "        # Flatten\n",
        "        output = output.view(-1, self.num_flat_features(output))\n",
        "        \n",
        "        # Fully Connected\n",
        "        output = self.fc1(output)\n",
        "        output = F.relu(output)\n",
        "        output = self.fc2(output)\n",
        "\n",
        "        return output\n",
        "    \n",
        "    def training_step(self, batch):\n",
        "        # Load batch\n",
        "        images, labels = batch\n",
        "        \n",
        "        # Get data to cuda if possible\n",
        "        images = images.to(device=device)\n",
        "        labels = labels.to(device=device)\n",
        "\n",
        "        # Generate predictions\n",
        "        output = self(images) \n",
        "        \n",
        "        # Calculate loss\n",
        "        loss = F.cross_entropy(output, labels)\n",
        "        return loss\n",
        "    \n",
        "    def validation_step(self, batch):\n",
        "        # Load batch\n",
        "        images, labels = batch\n",
        "\n",
        "        # Get data to cuda if possible\n",
        "        images = images.to(device=device)\n",
        "        labels = labels.to(device=device)\n",
        "\n",
        "        # Generate predictions\n",
        "        output = self(images) \n",
        "        \n",
        "        # Calculate loss\n",
        "        loss = F.cross_entropy(output, labels)\n",
        "\n",
        "        # Calculate accuracy\n",
        "        acc = self.accuracy_function(output, labels)\n",
        "        \n",
        "        return {'val_loss': loss, 'val_acc': acc}\n",
        "        \n",
        "    def validation_epoch_end(self, outputs):\n",
        "        \n",
        "        # Combine losses and return mean value\n",
        "        batch_losses = [x['val_loss'] for x in outputs]\n",
        "        epoch_loss = torch.stack(batch_losses).mean()\n",
        "        \n",
        "        # Combine accuracies and return mean value\n",
        "        batch_accs = [x['val_acc'] for x in outputs]\n",
        "        epoch_acc = torch.stack(batch_accs).mean()\n",
        "        return {'val_loss': epoch_loss.item(), 'val_acc': epoch_acc.item()}\n",
        "    \n",
        "    def epoch_end(self, epoch, result):\n",
        "        print(\"Epoch: {} - Validation Loss: {:.4f}, Validation Accuracy: {:.4f}\".format(epoch, result['val_loss'], result['val_acc']))\n",
        "        \n",
        "    def num_flat_features(self, image):\n",
        "        size = image.size()[1:]\n",
        "        num_features = 1\n",
        "        for s in size:\n",
        "            num_features *= s\n",
        "            \n",
        "        return num_features"
      ],
      "execution_count": 17,
      "outputs": []
    },
    {
      "cell_type": "markdown",
      "metadata": {
        "id": "0jTwqYDjzCtW"
      },
      "source": [
        "he difference from **FFNN** are located in the *constructor* and the *forward* method. We know upfront which layers we want to use and we add two convolutional layers using <font color='red'>`conv2d`</font> class and two fully connected layers using <font color='red'>`linear`</font> class like before.\n",
        "\n",
        "In the **forward** function we use <font color='red'>`max_pool2d`</font> function to perform max pooling. Other methods are the same as for the FFNN implementation. We can utilize **ModelTrainer** that we already implemented before and train this network:"
      ]
    },
    {
      "cell_type": "code",
      "metadata": {
        "colab": {
          "base_uri": "https://localhost:8080/"
        },
        "id": "P1hJokQszhTA",
        "outputId": "835525c6-0860-4d41-d6b3-c2cf76f30a85"
      },
      "source": [
        "input_size = 784\n",
        "num_classes = 10\n",
        "\n",
        "model = CNN(accuracy_function=accuracy).to(device)\n",
        "print(model)"
      ],
      "execution_count": 18,
      "outputs": [
        {
          "output_type": "stream",
          "name": "stdout",
          "text": [
            "CNN(\n",
            "  (conv1): Conv2d(1, 32, kernel_size=(3, 3), stride=(1, 1), padding=(1, 1))\n",
            "  (conv2): Conv2d(32, 64, kernel_size=(3, 3), stride=(1, 1), padding=(1, 1))\n",
            "  (max_pool2d): MaxPool2d(kernel_size=2, stride=2, padding=0, dilation=1, ceil_mode=False)\n",
            "  (fc1): Linear(in_features=3136, out_features=128, bias=True)\n",
            "  (fc2): Linear(in_features=128, out_features=10, bias=True)\n",
            ")\n"
          ]
        }
      ]
    },
    {
      "cell_type": "code",
      "metadata": {
        "colab": {
          "base_uri": "https://localhost:8080/",
          "height": 466
        },
        "id": "gWJy3WlLzmwR",
        "outputId": "34997891-37ac-467b-bc3c-79cdb4203294"
      },
      "source": [
        "model_trainer = ModelTrainer()\n",
        "\n",
        "training_history = []\n",
        "training_history += model_trainer.fit(5, 0.2, model, train_loader, val_loader)\n",
        "\n",
        "plot_history(training_history)"
      ],
      "execution_count": 19,
      "outputs": [
        {
          "output_type": "stream",
          "name": "stderr",
          "text": [
            "/usr/local/lib/python3.7/dist-packages/torch/utils/data/dataloader.py:481: UserWarning: This DataLoader will create 4 worker processes in total. Our suggested max number of worker in current system is 2, which is smaller than what this DataLoader is going to create. Please be aware that excessive worker creation might get DataLoader running slow or even freeze, lower the worker number to avoid potential slowness/freeze if necessary.\n",
            "  cpuset_checked))\n",
            "/usr/local/lib/python3.7/dist-packages/torch/nn/functional.py:718: UserWarning: Named tensors and all their associated APIs are an experimental feature and subject to change. Please do not use them for anything important until they are released as stable. (Triggered internally at  /pytorch/c10/core/TensorImpl.h:1156.)\n",
            "  return torch.max_pool2d(input, kernel_size, stride, padding, dilation, ceil_mode)\n"
          ]
        },
        {
          "output_type": "stream",
          "name": "stdout",
          "text": [
            "Epoch: 0 - Validation Loss: 0.1013, Validation Accuracy: 0.9683\n",
            "Epoch: 1 - Validation Loss: 0.0792, Validation Accuracy: 0.9758\n",
            "Epoch: 2 - Validation Loss: 0.0635, Validation Accuracy: 0.9808\n",
            "Epoch: 3 - Validation Loss: 0.0614, Validation Accuracy: 0.9814\n",
            "Epoch: 4 - Validation Loss: 0.0575, Validation Accuracy: 0.9829\n"
          ]
        },
        {
          "output_type": "display_data",
          "data": {
            "image/png": "[encoded data removed]",
            "text/plain": [
              "<Figure size 432x288 with 1 Axes>"
            ]
          },
          "metadata": {
            "needs_background": "light"
          }
        }
      ]
    },
    {
      "cell_type": "markdown",
      "metadata": {
        "id": "QED4PJE40SCf"
      },
      "source": [
        "We got a bit better results than with feed-forward neural networks. Accuracy is 98%. We can further improve these results by adding more convolutional layers, training networks longer, and modify the learning late. Give it a try."
      ]
    },
    {
      "cell_type": "markdown",
      "metadata": {
        "id": "GKg-lZn-2ILE"
      },
      "source": [
        "### End of notebook."
      ]
    }
  ]
}