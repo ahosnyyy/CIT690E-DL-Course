{
  "nbformat": 4,
  "nbformat_minor": 0,
  "metadata": {
    "colab": {
      "name": "Calculating IOU.ipynb",
      "provenance": [],
      "collapsed_sections": [],
      "include_colab_link": true
    },
    "kernelspec": {
      "name": "python3",
      "display_name": "Python 3"
    }
  },
  "cells": [
    {
      "cell_type": "markdown",
      "metadata": {
        "id": "view-in-github",
        "colab_type": "text"
      },
      "source": [
        "<a href=\"https://colab.research.google.com/github/AhHosny/CIT690E-DL-Course/blob/master/Calculating_IOU.ipynb\" target=\"_parent\"><img src=\"https://colab.research.google.com/assets/colab-badge.svg\" alt=\"Open In Colab\"/></a>"
      ]
    },
    {
      "cell_type": "markdown",
      "source": [
        "# Intersection Over Union (IOU)"
      ],
      "metadata": {
        "id": "tg8iNty9eVy_"
      }
    },
    {
      "cell_type": "markdown",
      "source": [
        "## bbox = [x1, y1, x2, y2]\n",
        "![iou](https://miro.medium.com/max/359/1*cNLP-dEczo7oXxEXLzAzQQ.jpeg)"
      ],
      "metadata": {
        "id": "00fXUXNob6Hp"
      }
    },
    {
      "cell_type": "code",
      "metadata": {
        "id": "VaLHNIS5vFr8"
      },
      "source": [
        "def get_iou(boxA, boxB, epsilon=1e-5):\n",
        "    x1 = max(boxA[0], boxB[0])\n",
        "    y1 = max(boxA[1], boxB[1])\n",
        "    x2 = min(boxA[2], boxB[2])\n",
        "    y2 = min(boxA[3], boxB[3])\n",
        "    width = (x2 - x1)\n",
        "    height = (y2 - y1)\n",
        "    if (width<0) or (height <0):\n",
        "        return 0.0\n",
        "    area_overlap = width * height\n",
        "    area_a = (boxA[2] - boxA[0]) * (boxA[3] - boxA[1])\n",
        "    area_b = (boxB[2] - boxB[0]) * (boxB[3] - boxB[1])\n",
        "    area_combined = area_a + area_b - area_overlap\n",
        "    iou = area_overlap / (area_combined+epsilon)\n",
        "    return iou"
      ],
      "execution_count": null,
      "outputs": []
    },
    {
      "cell_type": "code",
      "source": [
        "import cv2\n",
        "import matplotlib.pyplot as plt\n",
        "import numpy as np"
      ],
      "metadata": {
        "id": "DFeCcXBLa0jC"
      },
      "execution_count": null,
      "outputs": []
    },
    {
      "cell_type": "code",
      "source": [
        "bbox1 = [160, 182, 302, 431]\n",
        "bbox2 = [120, 160, 250, 400]"
      ],
      "metadata": {
        "id": "UDLtzElBasRf"
      },
      "execution_count": null,
      "outputs": []
    },
    {
      "cell_type": "code",
      "source": [
        "img = np.zeros((512,512,3))\n",
        "cv2.rectangle(img, (bbox1[0], bbox1[1]), (bbox1[2], bbox1[3]), color=(0, 255, 0), thickness=2)\n",
        "cv2.rectangle(img, (bbox2[0], bbox2[1]), (bbox2[2], bbox2[3]), color=(0, 255, 0), thickness=2)\n",
        "plt.imshow(img)"
      ],
      "metadata": {
        "id": "GPSPvmAkavzw",
        "outputId": "68963338-2ce5-4e63-f96d-2fef92c88a9c",
        "colab": {
          "base_uri": "https://localhost:8080/",
          "height": 302
        }
      },
      "execution_count": null,
      "outputs": [
        {
          "output_type": "stream",
          "name": "stderr",
          "text": [
            "Clipping input data to the valid range for imshow with RGB data ([0..1] for floats or [0..255] for integers).\n"
          ]
        },
        {
          "output_type": "execute_result",
          "data": {
            "text/plain": [
              "<matplotlib.image.AxesImage at 0x7fbee6d91790>"
            ]
          },
          "metadata": {},
          "execution_count": 5
        },
        {
          "output_type": "display_data",
          "data": {
            "image/png": "[encoded data removed]",
            "text/plain": [
              "<Figure size 432x288 with 1 Axes>"
            ]
          },
          "metadata": {
            "needs_background": "light"
          }
        }
      ]
    },
    {
      "cell_type": "code",
      "source": [
        "get_iou(bbox1, bbox2)"
      ],
      "metadata": {
        "id": "p6Bl_zJpa8Ug",
        "outputId": "01313efd-eb35-4404-9456-46dca4ef19f3",
        "colab": {
          "base_uri": "https://localhost:8080/"
        }
      },
      "execution_count": null,
      "outputs": [
        {
          "output_type": "execute_result",
          "data": {
            "text/plain": [
              "0.4179982103161621"
            ]
          },
          "metadata": {},
          "execution_count": 6
        }
      ]
    },
    {
      "cell_type": "code",
      "source": [
        "bbox1 = [160, 182, 302, 431]\n",
        "bbox2 = [160, 182, 302, 431]"
      ],
      "metadata": {
        "id": "qC7Rc8wYae0J"
      },
      "execution_count": null,
      "outputs": []
    },
    {
      "cell_type": "code",
      "source": [
        "img = np.zeros((512,512,3))\n",
        "cv2.rectangle(img, (bbox1[0], bbox1[1]), (bbox1[2], bbox1[3]), color=(0, 255, 0), thickness=2)\n",
        "cv2.rectangle(img, (bbox2[0], bbox2[1]), (bbox2[2], bbox2[3]), color=(0, 255, 0), thickness=2)\n",
        "plt.imshow(img)"
      ],
      "metadata": {
        "id": "e_NVS6mKaixa",
        "outputId": "8032a145-19fe-408c-b275-3006377a91a9",
        "colab": {
          "base_uri": "https://localhost:8080/",
          "height": 302
        }
      },
      "execution_count": null,
      "outputs": [
        {
          "output_type": "stream",
          "name": "stderr",
          "text": [
            "Clipping input data to the valid range for imshow with RGB data ([0..1] for floats or [0..255] for integers).\n"
          ]
        },
        {
          "output_type": "execute_result",
          "data": {
            "text/plain": [
              "<matplotlib.image.AxesImage at 0x7fbee6d13450>"
            ]
          },
          "metadata": {},
          "execution_count": 8
        },
        {
          "output_type": "display_data",
          "data": {
            "image/png": "[encoded data removed]",
            "text/plain": [
              "<Figure size 432x288 with 1 Axes>"
            ]
          },
          "metadata": {
            "needs_background": "light"
          }
        }
      ]
    },
    {
      "cell_type": "code",
      "source": [
        "get_iou(bbox1, bbox2)"
      ],
      "metadata": {
        "id": "OqVwd95Baj8Y",
        "outputId": "e7156143-8074-4d55-efcd-33f11d17f008",
        "colab": {
          "base_uri": "https://localhost:8080/"
        }
      },
      "execution_count": null,
      "outputs": [
        {
          "output_type": "execute_result",
          "data": {
            "text/plain": [
              "0.9999999997171785"
            ]
          },
          "metadata": {},
          "execution_count": 9
        }
      ]
    },
    {
      "cell_type": "code",
      "metadata": {
        "id": "3bvslWV_viWJ"
      },
      "source": [
        "bbox1 = [160, 182, 302, 431]\n",
        "bbox2 = [350, 171, 485, 486]"
      ],
      "execution_count": null,
      "outputs": []
    },
    {
      "cell_type": "code",
      "source": [
        "img = np.zeros((512,512,3))\n",
        "cv2.rectangle(img, (bbox1[0], bbox1[1]), (bbox1[2], bbox1[3]), color=(0, 255, 0), thickness=2)\n",
        "cv2.rectangle(img, (bbox2[0], bbox2[1]), (bbox2[2], bbox2[3]), color=(0, 255, 0), thickness=2)\n",
        "plt.imshow(img)"
      ],
      "metadata": {
        "id": "yEJdkYaBZAUQ",
        "outputId": "adabc0f0-a01c-474c-a502-51225eb1e1d3",
        "colab": {
          "base_uri": "https://localhost:8080/",
          "height": 302
        }
      },
      "execution_count": null,
      "outputs": [
        {
          "output_type": "stream",
          "name": "stderr",
          "text": [
            "Clipping input data to the valid range for imshow with RGB data ([0..1] for floats or [0..255] for integers).\n"
          ]
        },
        {
          "output_type": "execute_result",
          "data": {
            "text/plain": [
              "<matplotlib.image.AxesImage at 0x7fbee6c71bd0>"
            ]
          },
          "metadata": {},
          "execution_count": 11
        },
        {
          "output_type": "display_data",
          "data": {
            "image/png": "[encoded data removed]",
            "text/plain": [
              "<Figure size 432x288 with 1 Axes>"
            ]
          },
          "metadata": {
            "needs_background": "light"
          }
        }
      ]
    },
    {
      "cell_type": "code",
      "source": [
        "get_iou(bbox1, bbox2)"
      ],
      "metadata": {
        "id": "hvKnhsn2Z68y",
        "outputId": "534e9331-8095-4e1b-950b-f79a61257fbb",
        "colab": {
          "base_uri": "https://localhost:8080/"
        }
      },
      "execution_count": null,
      "outputs": [
        {
          "output_type": "execute_result",
          "data": {
            "text/plain": [
              "0.0"
            ]
          },
          "metadata": {},
          "execution_count": 12
        }
      ]
    },
    {
      "cell_type": "markdown",
      "source": [
        "# End!"
      ],
      "metadata": {
        "id": "koNKQT8ibgNR"
      }
    }
  ]
}